{
  "cells": [
    {
      "cell_type": "markdown",
      "metadata": {
        "id": "view-in-github",
        "colab_type": "text"
      },
      "source": [
        "<a href=\"https://colab.research.google.com/github/Prishletsova/Data_analytics_tools_for_solving_application_problems-/blob/main/%D0%94%D0%BE%D0%BC%D0%B0%D1%88%D0%BD%D1%8F%D1%8F_%D1%80%D0%B0%D0%B1%D0%BE%D1%82%D0%B0_Numpy.ipynb\" target=\"_parent\"><img src=\"https://colab.research.google.com/assets/colab-badge.svg\" alt=\"Open In Colab\"/></a>"
      ]
    },
    {
      "cell_type": "markdown",
      "metadata": {
        "id": "dHpY1GhGowxm"
      },
      "source": [
        "# Worshop 2.1 Numpy\n",
        "\n",
        "1. Скачайте этот ноутбук к себе.\n",
        "2. Заполните пропущенные ячейки, отвечая на заданные вопросы. Там должен быть код! (если не сказано обратное)\n",
        "3. Сохраните результат в своём гитхаб репозитории.\n",
        "\n",
        "#### Полезная литература\n",
        "\n",
        "- http://www.numpy.org/\n",
        "- https://jakevdp.github.io/PythonDataScienceHandbook/02.00-introduction-to-numpy.html\n",
        "- https://docs.scipy.org/doc/numpy/user/quickstart.html"
      ]
    },
    {
      "cell_type": "markdown",
      "metadata": {
        "id": "TX7QvqX9owxs"
      },
      "source": [
        "1) Импортировать numpy и написать версию"
      ]
    },
    {
      "cell_type": "code",
      "execution_count": 56,
      "metadata": {
        "colab": {
          "base_uri": "https://localhost:8080/"
        },
        "id": "QsxeEqB6owxt",
        "outputId": "25aa4bff-5343-4639-f820-60d0016f69c6"
      },
      "outputs": [
        {
          "output_type": "stream",
          "name": "stdout",
          "text": [
            "1.23.5\n"
          ]
        }
      ],
      "source": [
        "import numpy as np\n",
        "print(np.__version__)"
      ]
    },
    {
      "cell_type": "markdown",
      "metadata": {
        "id": "q-4DRtAWowxv"
      },
      "source": [
        "2) Создать нулевой вектор размера 10"
      ]
    },
    {
      "cell_type": "code",
      "execution_count": 57,
      "metadata": {
        "colab": {
          "base_uri": "https://localhost:8080/"
        },
        "id": "FZNASSl3owxw",
        "outputId": "48f85f14-ed75-427b-c9c1-e04748d2f6c6"
      },
      "outputs": [
        {
          "output_type": "stream",
          "name": "stdout",
          "text": [
            "[[0. 0. 0. 0. 0. 0. 0. 0. 0. 0.]]\n"
          ]
        }
      ],
      "source": [
        "a = np.zeros((1,10))\n",
        "print(a)"
      ]
    },
    {
      "cell_type": "markdown",
      "metadata": {
        "id": "j7K6BVH3owxx"
      },
      "source": [
        "3) Создать вектор заполненный 7-ами размера 7"
      ]
    },
    {
      "cell_type": "code",
      "execution_count": 58,
      "metadata": {
        "colab": {
          "base_uri": "https://localhost:8080/"
        },
        "id": "5zo1Ylecowxx",
        "outputId": "3fbd1212-9b82-4646-b971-4ed9ea8d1dff"
      },
      "outputs": [
        {
          "output_type": "stream",
          "name": "stdout",
          "text": [
            "[[7 7 7 7 7 7 7]]\n"
          ]
        }
      ],
      "source": [
        "b = np.full((1, 7), 7)\n",
        "print(b)"
      ]
    },
    {
      "cell_type": "markdown",
      "metadata": {
        "id": "1qjBfXsHowxy"
      },
      "source": [
        "4) Создать вектор заполненный четными числами от 10 до 100"
      ]
    },
    {
      "cell_type": "code",
      "execution_count": 59,
      "metadata": {
        "colab": {
          "base_uri": "https://localhost:8080/"
        },
        "id": "X6YhrO4Uowxz",
        "outputId": "ee44c49b-1ac5-46f7-80ae-3a9a80b98a4f"
      },
      "outputs": [
        {
          "output_type": "stream",
          "name": "stdout",
          "text": [
            "[10 12 14 16 18 20 22 24 26 28 30 32 34 36 38 40 42 44 46 48 50 52 54 56\n",
            " 58 60 62 64 66 68 70 72 74 76 78 80 82 84 86 88 90 92 94 96 98]\n"
          ]
        }
      ],
      "source": [
        "c = np.arange(10, 100)\n",
        "print(c[c % 2 == 0])"
      ]
    },
    {
      "cell_type": "markdown",
      "metadata": {
        "id": "-iDuqnT3owxz"
      },
      "source": [
        "5) Создать массив случайных чисел и развернуть его задом наперёд"
      ]
    },
    {
      "cell_type": "code",
      "execution_count": 60,
      "metadata": {
        "colab": {
          "base_uri": "https://localhost:8080/"
        },
        "id": "zsLSXTEMowx0",
        "outputId": "59d1dd30-005f-4deb-dd2a-17c9e0a647e5"
      },
      "outputs": [
        {
          "output_type": "stream",
          "name": "stdout",
          "text": [
            "Изначальный массив: [[27 28 44 12 39]\n",
            " [ 2 24 14 15 64]\n",
            " [38 49 44 66 61]\n",
            " [32 30 13 58 55]\n",
            " [ 6 44  3 12 11]]\n",
            "\n",
            "Перевернутый массив: [[ 6 44  3 12 11]\n",
            " [32 30 13 58 55]\n",
            " [38 49 44 66 61]\n",
            " [ 2 24 14 15 64]\n",
            " [27 28 44 12 39]]\n"
          ]
        }
      ],
      "source": [
        "d = np.random.randint(2,75,(5,5))\n",
        "print(\"Изначальный массив:\", d)\n",
        "d1 = d[::-1]\n",
        "print(\"\")\n",
        "print(\"Перевернутый массив:\", d1)"
      ]
    },
    {
      "cell_type": "markdown",
      "metadata": {
        "id": "22qlHAk3owx1"
      },
      "source": [
        "6) Создать двумерную матрицу размера 3 на 3, заполненную числами от 0 до 9"
      ]
    },
    {
      "cell_type": "code",
      "execution_count": 61,
      "metadata": {
        "colab": {
          "base_uri": "https://localhost:8080/"
        },
        "id": "g_pcU3bpowx2",
        "outputId": "d1844a6b-851c-4b7f-d6bd-98cb4fa4bc6b"
      },
      "outputs": [
        {
          "output_type": "stream",
          "name": "stdout",
          "text": [
            "[[0 1 2]\n",
            " [3 4 5]\n",
            " [6 7 8]]\n"
          ]
        }
      ],
      "source": [
        "e = np.arange(9)\n",
        "e = e.reshape(3,3)\n",
        "print(e)"
      ]
    },
    {
      "cell_type": "markdown",
      "metadata": {
        "id": "B-66uA6bowx2"
      },
      "source": [
        "7) Создать матрицу размера 4 на 4 с единицами на диагонали смещеной на один наверх."
      ]
    },
    {
      "cell_type": "code",
      "execution_count": 62,
      "metadata": {
        "colab": {
          "base_uri": "https://localhost:8080/"
        },
        "id": "c224uiqmowx3",
        "outputId": "b7ab40d2-4e24-4d3f-c0e4-3bf86de7d0ca"
      },
      "outputs": [
        {
          "output_type": "execute_result",
          "data": {
            "text/plain": [
              "array([[0., 1., 0., 0.],\n",
              "       [0., 0., 1., 0.],\n",
              "       [0., 0., 0., 1.],\n",
              "       [0., 0., 0., 0.]])"
            ]
          },
          "metadata": {},
          "execution_count": 62
        }
      ],
      "source": [
        "np.eye(4)\n",
        "np.eye(4, k=1)"
      ]
    },
    {
      "cell_type": "markdown",
      "metadata": {
        "id": "7udfv_Fyowx3"
      },
      "source": [
        "8) Создать матрицу с числами в диапазоне от 1 до 4 по диагонали. В других ячейках матрицы должны быть семерки."
      ]
    },
    {
      "cell_type": "code",
      "execution_count": 63,
      "metadata": {
        "colab": {
          "base_uri": "https://localhost:8080/"
        },
        "id": "DeHhFJZIowx4",
        "outputId": "398e3b57-f5e8-44e5-cd8c-c0f42e5287a0"
      },
      "outputs": [
        {
          "output_type": "stream",
          "name": "stdout",
          "text": [
            "[[1 7 7 7]\n",
            " [7 2 7 7]\n",
            " [7 7 3 7]\n",
            " [7 7 7 4]]\n"
          ]
        }
      ],
      "source": [
        "f = np.full((4, 4), 7)\n",
        "np.fill_diagonal(f, np.arange(1, 5))\n",
        "print(f)"
      ]
    },
    {
      "cell_type": "markdown",
      "metadata": {
        "id": "9riE6Is0owx4"
      },
      "source": [
        "9) Создать матрицу размера 5 на 5 заполненную чилами от 0 до 4 в строках."
      ]
    },
    {
      "cell_type": "code",
      "execution_count": 64,
      "metadata": {
        "id": "gNoY28sUowx5",
        "colab": {
          "base_uri": "https://localhost:8080/"
        },
        "outputId": "866e5a12-136c-43f9-b0c6-79850e928aea"
      },
      "outputs": [
        {
          "output_type": "stream",
          "name": "stdout",
          "text": [
            "[[0 1 2 3 4]\n",
            " [0 1 2 3 4]\n",
            " [0 1 2 3 4]\n",
            " [0 1 2 3 4]]\n"
          ]
        }
      ],
      "source": [
        "g = np.array([[0, 1, 2, 3, 4], [0, 1, 2, 3, 4], [0, 1, 2, 3, 4], \\\n",
        "              [0, 1, 2, 3, 4]])\n",
        "print(g)"
      ]
    },
    {
      "cell_type": "markdown",
      "metadata": {
        "id": "yd2_ijzDowx5"
      },
      "source": [
        "10) Создать матрицу случайных чисел размера 10 на 10 и отнять среднее по строкам из каждого элемента строки"
      ]
    },
    {
      "cell_type": "code",
      "execution_count": 65,
      "metadata": {
        "id": "XqaGUMOcowx5",
        "colab": {
          "base_uri": "https://localhost:8080/"
        },
        "outputId": "d13c66ed-9598-48b7-b223-641a44f919a5"
      },
      "outputs": [
        {
          "output_type": "stream",
          "name": "stdout",
          "text": [
            "Matrix:\n",
            " [[91 30 63 57 51 86 80  2 58 93]\n",
            " [45 27 41 46 69 61 30 79 52 33]\n",
            " [86 63 30 65 19 24 60 40 69 50]\n",
            " [53 49 79 45 56 82 67 50 20 66]\n",
            " [23  6 92 98 65 81 97 30 32 78]\n",
            " [82 83 59 35 49 35 87 55 30  4]\n",
            " [56 22 79  7 45 72 89 56 32 49]\n",
            " [15 18 25 80 61 95 32 27 23 40]\n",
            " [ 5 18 70 83 93  3 97 39 30 19]\n",
            " [ 4 77 62 24 62 87 89 35 38 80]]\n",
            "\n",
            "NewMatrix:\n",
            " [[ 29 -31   1  -4 -10  24  18 -59  -3  31]\n",
            " [ -3 -21  -7  -2  20  12 -18  30   3 -15]\n",
            " [ 35  12 -20  14 -31 -26   9 -10  18   0]\n",
            " [ -3  -7  22 -11   0  25  10  -6 -36   9]\n",
            " [-37 -54  31  37   4  20  36 -30 -28  17]\n",
            " [ 30  31   7 -16  -2 -16  35   3 -21 -47]\n",
            " [  5 -28  28 -43  -5  21  38   5 -18  -1]\n",
            " [-26 -23 -16  38  19  53  -9 -14 -18  -1]\n",
            " [-40 -27  24  37  47 -42  51  -6 -15 -26]\n",
            " [-51  21   6 -31   6  31  33 -20 -17  24]]\n"
          ]
        }
      ],
      "source": [
        "h = np.random.randint(1,100, (10, 10))\n",
        "print('Matrix:\\n', h)\n",
        "\n",
        "for i in range(len(h)):\n",
        "    matsum = sum(h[i])\n",
        "    matmean = matsum / len(h[i])\n",
        "    h[i] = [element - matmean for element in h[i]]\n",
        "print('\\nNewMatrix:\\n', h)"
      ]
    },
    {
      "cell_type": "markdown",
      "metadata": {
        "id": "x2ykykZJowx6"
      },
      "source": [
        "11) Создать матрицу случайных чисел размера 10 на 10 и отнять медиану по столбцам из каждого элемента столбца  "
      ]
    },
    {
      "cell_type": "code",
      "execution_count": 66,
      "metadata": {
        "id": "-0f1P_U6owx6",
        "colab": {
          "base_uri": "https://localhost:8080/"
        },
        "outputId": "fad3ce1e-edcb-4ad0-b685-e0c6b99cd531"
      },
      "outputs": [
        {
          "output_type": "stream",
          "name": "stdout",
          "text": [
            "Matrix:\n",
            " [[63 98 40 27 26 88 79 47 44 44]\n",
            " [73 74 81 22 93 68 95 60 80 85]\n",
            " [34 41 38 32 33 23 77 24 46 43]\n",
            " [30 76 35  6 36 91 77 23  8 64]\n",
            " [80 59 30 29 75 64  6 38 55 41]\n",
            " [96 75 36 46 36 72 31  4 41 70]\n",
            " [32 48 75 65 49 88 25 64 11 12]\n",
            " [45 67 75 26 53 37 63 28 92 29]\n",
            " [48 38 98 89  4 37 35  9 51 18]\n",
            " [53 14 39  1  4 58 57 98 84 85]]\n",
            "\n",
            "NewMatrix: \n",
            " [[  7.6  39.  -14.7  -7.3 -14.9  25.4  24.5   7.5  -7.2  -5.1]\n",
            " [ 17.6  15.   26.3 -12.3  52.1   5.4  40.5  20.5  28.8  35.9]\n",
            " [-21.4 -18.  -16.7  -2.3  -7.9 -39.6  22.5 -15.5  -5.2  -6.1]\n",
            " [-25.4  17.  -19.7 -28.3  -4.9  28.4  22.5 -16.5 -43.2  14.9]\n",
            " [ 24.6   0.  -24.7  -5.3  34.1   1.4 -48.5  -1.5   3.8  -8.1]\n",
            " [ 40.6  16.  -18.7  11.7  -4.9   9.4 -23.5 -35.5 -10.2  20.9]\n",
            " [-23.4 -11.   20.3  30.7   8.1  25.4 -29.5  24.5 -40.2 -37.1]\n",
            " [-10.4   8.   20.3  -8.3  12.1 -25.6   8.5 -11.5  40.8 -20.1]\n",
            " [ -7.4 -21.   43.3  54.7 -36.9 -25.6 -19.5 -30.5  -0.2 -31.1]\n",
            " [ -2.4 -45.  -15.7 -33.3 -36.9  -4.6   2.5  58.5  32.8  35.9]]\n"
          ]
        }
      ],
      "source": [
        "i = np.random.randint(1, 100, (10, 10))\n",
        "print(\"Matrix:\\n\", i)\n",
        "column_means = np.mean(i, axis=0)\n",
        "i = i - column_means\n",
        "print(\"\\nNewMatrix: \\n\", i)"
      ]
    },
    {
      "cell_type": "markdown",
      "metadata": {
        "id": "xnY_44Abowx7"
      },
      "source": [
        "12) Создать матрицу случайных чисел 5x5. Добавить к ней столбецы максимумов и минимумов по строкам. Получится матрица 5x7.  "
      ]
    },
    {
      "cell_type": "code",
      "execution_count": 67,
      "metadata": {
        "id": "fWWOt1owowx7",
        "colab": {
          "base_uri": "https://localhost:8080/"
        },
        "outputId": "dd50433e-1c90-474f-a7da-4a87703f2089"
      },
      "outputs": [
        {
          "output_type": "stream",
          "name": "stdout",
          "text": [
            "Matrix:\n",
            " [[90 53 90  3 81]\n",
            " [36 85 89 74 97]\n",
            " [ 3 60 75 98 60]\n",
            " [ 7 73 98 48 16]\n",
            " [ 3 48  6 25 27]]\n",
            "\n",
            "NewMatrix:\n",
            " [[90 53 90  3 81 90  3]\n",
            " [36 85 89 74 97 97 36]\n",
            " [ 3 60 75 98 60 98  3]\n",
            " [ 7 73 98 48 16 98  7]\n",
            " [ 3 48  6 25 27 48  3]]\n"
          ]
        }
      ],
      "source": [
        "j = np.random.randint(1, 100, (5, 5))\n",
        "print(\"Matrix:\\n\", j)\n",
        "\n",
        "maxi = np.max(j, axis=1)\n",
        "mini = np.min(j, axis=1)\n",
        "new_matrix = np.column_stack((j, maxi, mini))\n",
        "print(\"\\nNewMatrix:\\n\", new_matrix)"
      ]
    },
    {
      "cell_type": "markdown",
      "metadata": {
        "id": "au9MNHb9owx7"
      },
      "source": [
        "13) Вектор чисел от 1 до 51 преобразовать в вектор нечетных чисел и в вектор четных чисел, поменять их размерности, чтобы получились две матрица. Найти произведение этих матриц. Найти обратную матрицу эётого произведения.  "
      ]
    },
    {
      "cell_type": "code",
      "execution_count": 68,
      "metadata": {
        "id": "yvmm8bAhowx8",
        "colab": {
          "base_uri": "https://localhost:8080/"
        },
        "outputId": "6f066281-bb3f-41d1-987a-aa2f736e5412"
      },
      "outputs": [
        {
          "output_type": "stream",
          "name": "stdout",
          "text": [
            "Original vector:\n",
            " [ 1  2  3  4  5  6  7  8  9 10 11 12 13 14 15 16 17 18 19 20 21 22 23 24\n",
            " 25 26 27 28 29 30 31 32 33 34 35 36 37 38 39 40 41 42 43 44 45 46 47 48\n",
            " 49 50]\n",
            "\n",
            "Odd vector:\n",
            " [ 1  3  5  7  9 11 13 15 17 19 21 23 25 27 29 31 33 35 37 39 41 43 45 47\n",
            " 49]\n",
            "\n",
            "Even vector:\n",
            " [ 2  4  6  8 10 12 14 16 18 20 22 24 26 28 30 32 34 36 38 40 42 44 46 48\n",
            " 50]\n",
            "\n",
            "Odd matrix:\n",
            " [[ 1  3  5  7  9]\n",
            " [11 13 15 17 19]\n",
            " [21 23 25 27 29]\n",
            " [31 33 35 37 39]\n",
            " [41 43 45 47 49]]\n",
            "\n",
            "Even matrix:\n",
            " [[ 2  4  6  8 10]\n",
            " [12 14 16 18 20]\n",
            " [22 24 26 28 30]\n",
            " [32 34 36 38 40]\n",
            " [42 44 46 48 50]]\n",
            "\n",
            "Matrix product:\n",
            " [[   2   12   30   56   90]\n",
            " [ 132  182  240  306  380]\n",
            " [ 462  552  650  756  870]\n",
            " [ 992 1122 1260 1406 1560]\n",
            " [1722 1892 2070 2256 2450]]\n"
          ]
        }
      ],
      "source": [
        "k = np.array(range(1, 51))\n",
        "print(\"Original vector:\\n\", k)\n",
        "\n",
        "l = k[k % 2 == 1]\n",
        "m = k[k % 2 == 0]\n",
        "\n",
        "print(\"\\nOdd vector:\\n\", l)\n",
        "print(\"\\nEven vector:\\n\", m)\n",
        "\n",
        "l.resize(5, 5)\n",
        "m.resize(5, 5)\n",
        "\n",
        "print(\"\\nOdd matrix:\\n\", l)\n",
        "print(\"\\nEven matrix:\\n\", m)\n",
        "\n",
        "product = l*m\n",
        "print(\"\\nMatrix product:\\n\", product)\n",
        "\n",
        "#try:\n",
        "#    inverse = np.linalg.inv(product)\n",
        "#except LinAlgError  as s:\n",
        "#    print(\"Определитель равен нулю, поэтому вычислить обратную матрицу\" \\\n",
        "#        \"не получится\")\n",
        "\n",
        "# print(\"\\nInverse matrix:\\n\", inverse)"
      ]
    },
    {
      "cell_type": "markdown",
      "metadata": {
        "id": "Eow43qGjowx8"
      },
      "source": [
        "14) Создать 8x8 матрицу и заполнить её в шахматном порядке нулями и единицами."
      ]
    },
    {
      "cell_type": "code",
      "execution_count": 69,
      "metadata": {
        "id": "9pOtUkppowx8",
        "colab": {
          "base_uri": "https://localhost:8080/"
        },
        "outputId": "21e5f609-ed33-42ed-b42f-8ee070c4bf89"
      },
      "outputs": [
        {
          "output_type": "stream",
          "name": "stdout",
          "text": [
            "[[0. 1. 0. 1. 0. 1. 0. 1.]\n",
            " [1. 0. 1. 0. 1. 0. 1. 0.]\n",
            " [0. 1. 0. 1. 0. 1. 0. 1.]\n",
            " [1. 0. 1. 0. 1. 0. 1. 0.]\n",
            " [0. 1. 0. 1. 0. 1. 0. 1.]\n",
            " [1. 0. 1. 0. 1. 0. 1. 0.]\n",
            " [0. 1. 0. 1. 0. 1. 0. 1.]\n",
            " [1. 0. 1. 0. 1. 0. 1. 0.]]\n"
          ]
        }
      ],
      "source": [
        "n = np.zeros((8,8))\n",
        "n[1::2, ::2] = 1\n",
        "n[0::2, 1::2] = 1\n",
        "print(n)"
      ]
    }
  ],
  "metadata": {
    "kernelspec": {
      "display_name": "Python 3",
      "language": "python",
      "name": "python3"
    },
    "language_info": {
      "codemirror_mode": {
        "name": "ipython",
        "version": 3
      },
      "file_extension": ".py",
      "mimetype": "text/x-python",
      "name": "python",
      "nbconvert_exporter": "python",
      "pygments_lexer": "ipython3",
      "version": "3.8.0"
    },
    "colab": {
      "provenance": [],
      "include_colab_link": true
    }
  },
  "nbformat": 4,
  "nbformat_minor": 0
}