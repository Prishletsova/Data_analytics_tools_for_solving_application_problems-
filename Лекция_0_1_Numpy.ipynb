{
  "nbformat": 4,
  "nbformat_minor": 0,
  "metadata": {
    "colab": {
      "provenance": [],
      "authorship_tag": "ABX9TyNWwchWq2UB2PpCcAWIMGxy",
      "include_colab_link": true
    },
    "kernelspec": {
      "name": "python3",
      "display_name": "Python 3"
    },
    "language_info": {
      "name": "python"
    }
  },
  "cells": [
    {
      "cell_type": "markdown",
      "metadata": {
        "id": "view-in-github",
        "colab_type": "text"
      },
      "source": [
        "<a href=\"https://colab.research.google.com/github/Prishletsova/Data_analytics_tools_for_solving_application_problems-/blob/main/%D0%9B%D0%B5%D0%BA%D1%86%D0%B8%D1%8F_0_1_Numpy.ipynb\" target=\"_parent\"><img src=\"https://colab.research.google.com/assets/colab-badge.svg\" alt=\"Open In Colab\"/></a>"
      ]
    },
    {
      "cell_type": "markdown",
      "source": [
        "# Матрицы\n",
        "\n",
        "Всё есть матрицы. Даже если вы видите перед собой число, то это матрица ранга 0.\n",
        "\n",
        "В Numpy матрицы - это многомерные массивы фиксированного размера состоящие из элементов одного типа, что отличает их от обычных Python листов. Благодаря оптимизациям матричные преобразования в numpy работают во много раз быстрее, чем в питоне и требуют меньше памяти."
      ],
      "metadata": {
        "id": "_Bu9-3Yjhrhq"
      }
    },
    {
      "cell_type": "code",
      "execution_count": 1,
      "metadata": {
        "colab": {
          "base_uri": "https://localhost:8080/"
        },
        "id": "JWNCNZoUhkex",
        "outputId": "81bf2fba-3fc0-4397-ea98-a741171a2852"
      },
      "outputs": [
        {
          "output_type": "stream",
          "name": "stdout",
          "text": [
            "<class 'numpy.ndarray'>\n",
            "int64\n"
          ]
        },
        {
          "output_type": "execute_result",
          "data": {
            "text/plain": [
              "array([1, 2, 3, 4, 5])"
            ]
          },
          "metadata": {},
          "execution_count": 1
        }
      ],
      "source": [
        "import numpy as np  # принято импортировать весь модуль и переименовывать его\n",
        "                    # в np\n",
        "\n",
        "# чтобы создать numpy массив можно сконвертировать обычный лист в него\n",
        "\n",
        "arr = np.array([1,2,3,4,5])\n",
        "print(type(arr)) # тип матриц в numpay - это ndarray\n",
        "print(arr.dtype) # узнаем какой тип хранится в матрице\n",
        "arr # jupyter умеет сериализовывать в строки np матрицы\n"
      ]
    },
    {
      "cell_type": "markdown",
      "source": [
        "# Создание массивов\n",
        "\n",
        "Чтобы посмотреть все возможные способы создания массивов можно попросить питон найти в документации np.lookfor('create array')."
      ],
      "metadata": {
        "id": "QwCZIlqeh-lO"
      }
    },
    {
      "cell_type": "code",
      "source": [
        "np.lookfor('create array')"
      ],
      "metadata": {
        "colab": {
          "base_uri": "https://localhost:8080/"
        },
        "id": "uyqNLMWTh_nT",
        "outputId": "0f2ebc51-75ed-4d3e-a4da-106b6f425a53"
      },
      "execution_count": 2,
      "outputs": [
        {
          "output_type": "stream",
          "name": "stdout",
          "text": [
            "Search results for 'create array'\n",
            "---------------------------------\n",
            "numpy.memmap\n",
            "    Create a memory-map to an array stored in a *binary* file on disk.\n",
            "numpy.char.array\n",
            "    Create a `chararray`.\n",
            "numpy.diagflat\n",
            "    Create a two-dimensional array with the flattened input as a diagonal.\n",
            "numpy.fromiter\n",
            "    Create a new 1-dimensional array from an iterable object.\n",
            "numpy.partition\n",
            "    Return a partitioned copy of an array.\n",
            "numpy.from_dlpack\n",
            "    Create a NumPy array from an object implementing the ``__dlpack__``\n",
            "numpy.rec.fromarrays\n",
            "    Create a record array from a (flat) list of arrays\n",
            "numpy.ctypeslib.as_array\n",
            "    Create a numpy array from a ctypes array or POINTER.\n",
            "numpy.ma.diagflat\n",
            "    Create a two-dimensional array with the flattened input as a diagonal.\n",
            "numpy.ma.make_mask\n",
            "    Create a boolean mask from an array.\n",
            "numpy.rec.fromfile\n",
            "    Create an array from binary file data\n",
            "numpy.rec.fromstring\n",
            "    Create a record array from binary data\n",
            "numpy.lib.Arrayterator\n",
            "    Buffered iterator for big arrays.\n",
            "numpy.rec.fromrecords\n",
            "    Create a recarray from a list of records in text form.\n",
            "numpy.ctypeslib.as_ctypes\n",
            "    Create and return a ctypes object from a numpy array.  Actually\n",
            "numpy.ma.mrecords.fromarrays\n",
            "    Creates a mrecarray from a (flat) list of masked arrays.\n",
            "numpy.ma.mvoid.__new__\n",
            "    Create a new masked array from scratch.\n",
            "numpy.ma.MaskedArray.__new__\n",
            "    Create a new masked array from scratch.\n",
            "numpy.ma.mrecords.fromtextfile\n",
            "    Creates a mrecarray from data stored in the file `filename`.\n",
            "numpy.array\n",
            "    array(object, dtype=None, *, copy=True, order='K', subok=False, ndmin=0,\n",
            "numpy.asarray\n",
            "    Convert the input to an array.\n",
            "numpy.ndarray\n",
            "    ndarray(shape, dtype=float, buffer=None, offset=0,\n",
            "numpy.recarray\n",
            "    Construct an ndarray that allows field access using attributes.\n",
            "numpy.chararray\n",
            "    chararray(shape, itemsize=1, unicode=False, buffer=None, offset=0,\n",
            "numpy.exp\n",
            "    Calculate the exponential of all elements in the input array.\n",
            "numpy.pad\n",
            "    Pad an array.\n",
            "numpy.asanyarray\n",
            "    Convert the input to an ndarray, but pass ndarray subclasses through.\n",
            "numpy.cbrt\n",
            "    Return the cube-root of an array, element-wise.\n",
            "numpy.copy\n",
            "    Return an array copy of the given object.\n",
            "numpy.diag\n",
            "    Extract a diagonal or construct a diagonal array.\n",
            "numpy.exp2\n",
            "    Calculate `2**p` for all `p` in the input array.\n",
            "numpy.fmax\n",
            "    Element-wise maximum of array elements.\n",
            "numpy.fmin\n",
            "    Element-wise minimum of array elements.\n",
            "numpy.load\n",
            "    Load arrays or pickled objects from ``.npy``, ``.npz`` or pickled files.\n",
            "numpy.modf\n",
            "    Return the fractional and integral parts of an array, element-wise.\n",
            "numpy.rint\n",
            "    Round elements of the array to the nearest integer.\n",
            "numpy.sort\n",
            "    Return a sorted copy of an array.\n",
            "numpy.sqrt\n",
            "    Return the non-negative square-root of an array, element-wise.\n",
            "numpy.array_equiv\n",
            "    Returns True if input arrays are shape consistent and all elements equal.\n",
            "numpy.dtype\n",
            "    Create a data type object.\n",
            "numpy.expm1\n",
            "    Calculate ``exp(x) - 1`` for all elements in the array.\n",
            "numpy.isnan\n",
            "    Test element-wise for NaN and return result as a boolean array.\n",
            "numpy.isnat\n",
            "    Test element-wise for NaT (not a time) and return result as a boolean array.\n",
            "numpy.log10\n",
            "    Return the base 10 logarithm of the input array, element-wise.\n",
            "numpy.log1p\n",
            "    Return the natural logarithm of one plus the input array, element-wise.\n",
            "numpy.power\n",
            "    First array elements raised to powers from second array, element-wise.\n",
            "numpy.ufunc\n",
            "    Functions that operate element by element on whole arrays.\n",
            "numpy.choose\n",
            "    Construct an array from an index array and a list of arrays to choose from.\n",
            "numpy.nditer\n",
            "    Efficient multi-dimensional iterator object to iterate over arrays.\n",
            "numpy.maximum\n",
            "    Element-wise maximum of array elements.\n",
            "numpy.minimum\n",
            "    Element-wise minimum of array elements.\n",
            "numpy.swapaxes\n",
            "    Interchange two axes of an array.\n",
            "numpy.full_like\n",
            "    Return a full array with the same shape and type as a given array.\n",
            "numpy.ones_like\n",
            "    Return an array of ones with the same shape and type as a given array.\n",
            "numpy.bitwise_or\n",
            "    Compute the bit-wise OR of two arrays element-wise.\n",
            "numpy.rec.array\n",
            "    Construct a record array from a wide-variety of objects.\n",
            "numpy.datetime64\n",
            "    If created from a 64-bit integer, it represents an offset from\n",
            "numpy.empty_like\n",
            "    Return a new array with the same shape and type as a given array.\n",
            "numpy.frombuffer\n",
            "    Interpret a buffer as a 1-dimensional array.\n",
            "numpy.zeros_like\n",
            "    Return an array of zeros with the same shape and type as a given array.\n",
            "numpy.asarray_chkfinite\n",
            "    Convert the input to an array, checking for NaNs or Infs.\n",
            "numpy.bitwise_and\n",
            "    Compute the bit-wise AND of two arrays element-wise.\n",
            "numpy.bitwise_xor\n",
            "    Compute the bit-wise XOR of two arrays element-wise.\n",
            "numpy.float_power\n",
            "    First array elements raised to powers from second array, element-wise.\n",
            "numpy.diag_indices\n",
            "    Return the indices to access the main diagonal of an array.\n",
            "numpy.ma.exp\n",
            "    Calculate the exponential of all elements in the input array.\n",
            "numpy.nested_iters\n",
            "    Create nditers for use in nested loops\n",
            "numpy.ma.sqrt\n",
            "    Return the non-negative square-root of an array, element-wise.\n",
            "numpy.ma.log10\n",
            "    Return the base 10 logarithm of the input array, element-wise.\n",
            "numpy.chararray.tolist\n",
            "    a.tolist()\n",
            "numpy.put_along_axis\n",
            "    Put values into the destination array by matching 1d index and data slices.\n",
            "numpy.ma.choose\n",
            "    Use an index array to construct a new array from a list of choices.\n",
            "numpy.ma.maximum\n",
            "    Element-wise maximum of array elements.\n",
            "numpy.ma.minimum\n",
            "    Element-wise minimum of array elements.\n",
            "numpy.savez_compressed\n",
            "    Save several arrays into a single file in compressed ``.npz`` format.\n",
            "numpy.matlib.rand\n",
            "    Return a matrix of random values with given shape.\n",
            "numpy.datetime_as_string\n",
            "    Convert an array of datetimes into an array of strings.\n",
            "numpy.ma.ones_like\n",
            "    Return an array of ones with the same shape and type as a given array.\n",
            "numpy.ma.mrecords.MaskedRecords.__new__\n",
            "    Create a new masked array from scratch.\n",
            "numpy.ma.bitwise_or\n",
            "    Compute the bit-wise OR of two arrays element-wise.\n",
            "numpy.ma.frombuffer\n",
            "    Interpret a buffer as a 1-dimensional array.\n",
            "numpy.ma.zeros_like\n",
            "    Return an array of zeros with the same shape and type as a given array.\n",
            "numpy.ma.bitwise_and\n",
            "    Compute the bit-wise AND of two arrays element-wise.\n",
            "numpy.ma.bitwise_xor\n",
            "    Compute the bit-wise XOR of two arrays element-wise.\n",
            "numpy.ma.make_mask_none\n",
            "    Return a boolean mask of the given shape, filled with False.\n",
            "numpy.core.tests.test_umath.interesting_binop_operands\n",
            "    Helper to create \"interesting\" operands to cover common code paths:\n",
            "numpy.ma.tests.test_subclassing.MSubArray.__new__\n",
            "    Create a new masked array from scratch.\n",
            "numpy.core._multiarray_umath.clip\n",
            "    Clip (limit) the values in an array.\n",
            "numpy.core.tests.test_overrides._new_duck_type_and_implements\n",
            "    Create a duck array type and implements functions.\n",
            "numpy.ma.tests.test_subclassing.SubMaskedArray.__new__\n",
            "    Create a new masked array from scratch.\n",
            "numpy.ma.mrecords.fromrecords\n",
            "    Creates a MaskedRecords from a list of records.\n",
            "numpy.f2py.tests.test_array_from_pyobj.Array.has_shared_memory\n",
            "    Check that created array shares data with input array.\n",
            "numpy.core._multiarray_umath.empty_like\n",
            "    Return a new array with the same shape and type as a given array.\n",
            "numpy.core._dtype._construction_repr\n",
            "    Creates a string repr of the dtype, excluding the 'dtype()' part\n",
            "numpy.abs\n",
            "    Calculate the absolute value element-wise.\n",
            "numpy.add\n",
            "    Add arguments element-wise.\n",
            "numpy.cos\n",
            "    Cosine element-wise.\n",
            "numpy.log\n",
            "    Natural logarithm, element-wise.\n",
            "numpy.mod\n",
            "    Returns the element-wise remainder of division.\n",
            "numpy.sin\n",
            "    Trigonometric sine, element-wise.\n",
            "numpy.tan\n",
            "    Compute tangent element-wise.\n",
            "numpy.ceil\n",
            "    Return the ceiling of the input, element-wise.\n",
            "numpy.conj\n",
            "    Return the complex conjugate, element-wise.\n",
            "numpy.cosh\n",
            "    Hyperbolic cosine, element-wise.\n",
            "numpy.fabs\n",
            "    Compute the absolute values element-wise.\n",
            "numpy.fmod\n",
            "    Returns the element-wise remainder of division.\n",
            "numpy.less\n",
            "    Return the truth value of (x1 < x2) element-wise.\n",
            "numpy.log2\n",
            "    Base-2 logarithm of `x`.\n",
            "numpy.lib.recfunctions.require_fields\n",
            "    Casts a structured array to a new dtype using assignment by field-name.\n",
            "numpy.sign\n",
            "    Returns an element-wise indication of the sign of a number.\n",
            "numpy.sinh\n",
            "    Hyperbolic sine, element-wise.\n",
            "numpy.tanh\n",
            "    Compute hyperbolic tangent element-wise.\n",
            "numpy.equal\n",
            "    Return (x1 == x2) element-wise.\n",
            "numpy.floor\n",
            "    Return the floor of the input, element-wise.\n",
            "numpy.frexp\n",
            "    Decompose the elements of x into mantissa and twos exponent.\n",
            "numpy.hypot\n",
            "    Given the \"legs\" of a right triangle, return its hypotenuse.\n",
            "numpy.isinf\n",
            "    Test element-wise for positive or negative infinity.\n",
            "numpy.ldexp\n",
            "    Returns x1 * 2**x2, element-wise.\n",
            "numpy.trunc\n",
            "    Return the truncated value of the input, element-wise.\n",
            "numpy.arccos\n",
            "    Trigonometric inverse cosine, element-wise.\n",
            "numpy.arcsin\n",
            "    Inverse sine, element-wise.\n",
            "numpy.arctan\n",
            "    Trigonometric inverse tangent, element-wise.\n",
            "numpy.around\n",
            "    Evenly round to the given number of decimals.\n",
            "numpy.divide\n",
            "    Divide arguments element-wise.\n",
            "numpy.divmod\n",
            "    Return element-wise quotient and remainder simultaneously.\n",
            "numpy.core._multiarray_umath.datetime_as_string\n",
            "    Convert an array of datetimes into an array of strings.\n",
            "numpy.source\n",
            "    Print or write to a file the source code for a NumPy object.\n",
            "numpy.square\n",
            "    Return the element-wise square of the input.\n",
            "numpy.arccosh\n",
            "    Inverse hyperbolic cosine, element-wise.\n",
            "numpy.arcsinh\n",
            "    Inverse hyperbolic sine element-wise.\n",
            "numpy.arctan2\n",
            "    Element-wise arc tangent of ``x1/x2`` choosing the quadrant correctly.\n",
            "numpy.arctanh\n",
            "    Inverse hyperbolic tangent element-wise.\n",
            "numpy.deg2rad\n",
            "    Convert angles from degrees to radians.\n",
            "numpy.degrees\n",
            "    Convert angles from radians to degrees.\n",
            "numpy.greater\n",
            "    Return the truth value of (x1 > x2) element-wise.\n",
            "numpy.rad2deg\n",
            "    Convert angles from radians to degrees.\n",
            "numpy.radians\n",
            "    Convert angles from degrees to radians.\n",
            "numpy.signbit\n",
            "    Returns element-wise True where signbit is set (less than zero).\n",
            "numpy.spacing\n",
            "    Return the distance between x and the nearest adjacent number.\n",
            "numpy.copysign\n",
            "    Change the sign of x1 to that of x2, element-wise.\n",
            "numpy.diagonal\n",
            "    Return specified diagonals.\n",
            "numpy.isfinite\n",
            "    Test element-wise for finiteness (not infinity and not Not a Number).\n",
            "numpy.multiply\n",
            "    Multiply arguments element-wise.\n",
            "numpy.negative\n",
            "    Numerical negative, element-wise.\n",
            "numpy.subtract\n",
            "    Subtract arguments, element-wise.\n",
            "numpy.heaviside\n",
            "    Compute the Heaviside step function.\n",
            "numpy.logaddexp\n",
            "    Logarithm of the sum of exponentiations of the inputs.\n",
            "numpy.nextafter\n",
            "    Return the next floating-point value after x1 towards x2, element-wise.\n",
            "numpy.not_equal\n",
            "    Return (x1 != x2) element-wise.\n",
            "numpy.left_shift\n",
            "    Shift the bits of an integer to the left.\n",
            "numpy.less_equal\n",
            "    Return the truth value of (x1 <= x2) element-wise.\n",
            "numpy.logaddexp2\n",
            "    Logarithm of the sum of exponentiations of the inputs in base-2.\n",
            "numpy.logical_or\n",
            "    Compute the truth value of x1 OR x2 element-wise.\n",
            "numpy.nan_to_num\n",
            "    Replace NaN with zero and infinity with large finite numbers (default\n",
            "numpy.reciprocal\n",
            "    Return the reciprocal of the argument, element-wise.\n",
            "numpy.bitwise_not\n",
            "    Compute bit-wise inversion, or bit-wise NOT, element-wise.\n",
            "numpy.einsum_path\n",
            "    Evaluates the lowest cost contraction order for an einsum expression by\n",
            "numpy.histogram2d\n",
            "    Compute the bi-dimensional histogram of two data samples.\n",
            "numpy.logical_and\n",
            "    Compute the truth value of x1 AND x2 element-wise.\n",
            "numpy.logical_not\n",
            "    Compute the truth value of NOT x element-wise.\n",
            "numpy.logical_xor\n",
            "    Compute the truth value of x1 XOR x2, element-wise.\n",
            "numpy.right_shift\n",
            "    Shift the bits of an integer to the right.\n",
            "numpy.ma.abs\n",
            "    Calculate the absolute value element-wise.\n",
            "numpy.ma.add\n",
            "    Add arguments element-wise.\n",
            "numpy.floor_divide\n",
            "    Return the largest integer smaller or equal to the division of the inputs.\n",
            "numpy.ma.cos\n",
            "    Cosine element-wise.\n",
            "numpy.ma.log\n",
            "    Natural logarithm, element-wise.\n",
            "numpy.ma.mod\n",
            "    Returns the element-wise remainder of division.\n",
            "numpy.ma.sin\n",
            "    Trigonometric sine, element-wise.\n",
            "numpy.ma.tan\n",
            "    Compute tangent element-wise.\n",
            "numpy.ma.ceil\n",
            "    Return the ceiling of the input, element-wise.\n",
            "numpy.fft.ifft\n",
            "    Compute the one-dimensional inverse discrete Fourier Transform.\n",
            "numpy.ma.cosh\n",
            "    Hyperbolic cosine, element-wise.\n",
            "numpy.ma.fabs\n",
            "    Compute the absolute values element-wise.\n",
            "numpy.greater_equal\n",
            "    Return the truth value of (x1 >= x2) element-wise.\n",
            "numpy.ma.fmod\n",
            "    Returns the element-wise remainder of division.\n",
            "numpy.ma.less\n",
            "    Return the truth value of (x1 < x2) element-wise.\n",
            "numpy.ma.log2\n",
            "    Base-2 logarithm of `x`.\n",
            "numpy.ma.sinh\n",
            "    Hyperbolic sine, element-wise.\n",
            "numpy.ma.tanh\n",
            "    Compute hyperbolic tangent element-wise.\n",
            "numpy.busdaycalendar\n",
            "    A business day calendar object that efficiently stores information\n",
            "numpy.fft.ifftn\n",
            "    Compute the N-dimensional inverse discrete Fourier Transform.\n",
            "numpy.ma.equal\n",
            "    Return (x1 == x2) element-wise.\n",
            "numpy.ma.floor\n",
            "    Return the floor of the input, element-wise.\n",
            "numpy.ma.hypot\n",
            "    Given the \"legs\" of a right triangle, return its hypotenuse.\n",
            "numpy.ma.arccos\n",
            "    Trigonometric inverse cosine, element-wise.\n",
            "numpy.ma.arcsin\n",
            "    Inverse sine, element-wise.\n",
            "numpy.ma.arctan\n",
            "    Trigonometric inverse tangent, element-wise.\n",
            "numpy.ma.divide\n",
            "    Divide arguments element-wise.\n",
            "numpy.ma.arccosh\n",
            "    Inverse hyperbolic cosine, element-wise.\n",
            "numpy.ma.arcsinh\n",
            "    Inverse hyperbolic sine element-wise.\n",
            "numpy.ma.arctan2\n",
            "    Element-wise arc tangent of ``x1/x2`` choosing the quadrant correctly.\n",
            "numpy.ma.arctanh\n",
            "    Inverse hyperbolic tangent element-wise.\n",
            "numpy.ma.greater\n",
            "    Return the truth value of (x1 > x2) element-wise.\n",
            "numpy.lib.recfunctions.unstructured_to_structured\n",
            "    Converts an n-D unstructured array into an (n-1)-D structured array.\n",
            "numpy.ma.multiply\n",
            "    Multiply arguments element-wise.\n",
            "numpy.ma.negative\n",
            "    Numerical negative, element-wise.\n",
            "numpy.ma.subtract\n",
            "    Subtract arguments, element-wise.\n",
            "numpy.ma.conjugate\n",
            "    Return the complex conjugate, element-wise.\n",
            "numpy.ma.not_equal\n",
            "    Return (x1 != x2) element-wise.\n",
            "numpy.ma.remainder\n",
            "    Returns the element-wise remainder of division.\n",
            "numpy.ma.empty_like\n",
            "    empty_like(prototype, dtype=None, order='K', subok=True, shape=None)\n",
            "numpy.ma.less_equal\n",
            "    Return the truth value of (x1 <= x2) element-wise.\n",
            "numpy.ma.logical_or\n",
            "    Compute the truth value of x1 OR x2 element-wise.\n",
            "numpy.ma.tests.test_subclassing.SubArray\n",
            "    ndarray(shape, dtype=float, buffer=None, offset=0,\n",
            "numpy.ma.logical_and\n",
            "    Compute the truth value of x1 AND x2 element-wise.\n",
            "numpy.ma.logical_not\n",
            "    Compute the truth value of NOT x element-wise.\n",
            "numpy.ma.logical_xor\n",
            "    Compute the truth value of x1 XOR x2, element-wise.\n",
            "numpy.ma.true_divide\n",
            "    Divide arguments element-wise.\n",
            "numpy.ma.floor_divide\n",
            "    Return the largest integer smaller or equal to the division of the inputs.\n",
            "numpy.ma.greater_equal\n",
            "    Return the truth value of (x1 >= x2) element-wise.\n",
            "numpy.core.tests.test_function_base.PhysicalQuantity2\n",
            "    ndarray(shape, dtype=float, buffer=None, offset=0,\n",
            "numpy.lib.tests.test_stride_tricks.SimpleSubClass\n",
            "    ndarray(shape, dtype=float, buffer=None, offset=0,\n",
            "numpy.core.tests.test_multiarray.TestArrayPriority.Foo\n",
            "    ndarray(shape, dtype=float, buffer=None, offset=0,\n",
            "numpy.core.tests.test_multiarray.TestArrayPriority.Bar\n",
            "    ndarray(shape, dtype=float, buffer=None, offset=0,\n",
            "numpy.ma.tests.test_subclassing.ComplicatedSubArray\n",
            "    ndarray(shape, dtype=float, buffer=None, offset=0,\n",
            "numpy.lib.tests.test_stride_tricks.VerySimpleSubClass\n",
            "    ndarray(shape, dtype=float, buffer=None, offset=0,\n",
            "numpy.random.RandomState.rand\n",
            "    Random values in a given shape.\n",
            "numpy.random.Generator.permuted\n",
            "    Randomly permute `x` along axis `axis`."
          ]
        }
      ]
    },
    {
      "cell_type": "markdown",
      "source": [
        "Обычно мы будем пользоваться следующимим методами:\n",
        "\n",
        "np.array(some_list)\n",
        "\n",
        "np.arange(count) генерирует последовательность чисел, как range\n",
        "\n",
        "np.zeros(shape) генерирует матрицу с нулями\n",
        "\n",
        "np.ones(shape) создает матрицу с единицами\n",
        "\n",
        "np.linspace(strat, end, count) - равномерно распределяет числа по пространству от start до end\n",
        "\n",
        "np.random.random_sample(shape) - матрица случайных чисел в диапазоне [0,1), равномерное распределение\n",
        "\n",
        "np.random.randn(shape) - случайные числа из нормального распределения"
      ],
      "metadata": {
        "id": "YJmpD75iiD90"
      }
    },
    {
      "cell_type": "markdown",
      "source": [
        "Shape - это размерность матрицы. Например (3,3,3) - это трёхмерная матрица размера 3x3x3"
      ],
      "metadata": {
        "id": "NlLjykjwiXiq"
      }
    },
    {
      "cell_type": "code",
      "source": [
        "np.array([1, 2, 3, 4]) # конвертирует python-list в ndarray"
      ],
      "metadata": {
        "colab": {
          "base_uri": "https://localhost:8080/"
        },
        "id": "6YFu3AiFiEJR",
        "outputId": "89ff1ea0-5f94-444f-fc23-fa83ebda5192"
      },
      "execution_count": 3,
      "outputs": [
        {
          "output_type": "execute_result",
          "data": {
            "text/plain": [
              "array([1, 2, 3, 4])"
            ]
          },
          "metadata": {},
          "execution_count": 3
        }
      ]
    },
    {
      "cell_type": "code",
      "source": [
        "np.arange(10000)  # jupyter умеет сокращенно выводить содержимое массива"
      ],
      "metadata": {
        "colab": {
          "base_uri": "https://localhost:8080/"
        },
        "id": "23Ov7-9RinaY",
        "outputId": "13dbcdbd-9e44-49dd-ce90-a8647c9275cd"
      },
      "execution_count": 4,
      "outputs": [
        {
          "output_type": "execute_result",
          "data": {
            "text/plain": [
              "array([   0,    1,    2, ..., 9997, 9998, 9999])"
            ]
          },
          "metadata": {},
          "execution_count": 4
        }
      ]
    },
    {
      "cell_type": "code",
      "source": [
        "np.linspace(1, 10, 20)  # можно генерировать данные разными способами"
      ],
      "metadata": {
        "colab": {
          "base_uri": "https://localhost:8080/"
        },
        "id": "EcZR9jd_ixEC",
        "outputId": "32b085c1-a9f5-44f9-a1f8-22eff0ad96c2"
      },
      "execution_count": 5,
      "outputs": [
        {
          "output_type": "execute_result",
          "data": {
            "text/plain": [
              "array([ 1.        ,  1.47368421,  1.94736842,  2.42105263,  2.89473684,\n",
              "        3.36842105,  3.84210526,  4.31578947,  4.78947368,  5.26315789,\n",
              "        5.73684211,  6.21052632,  6.68421053,  7.15789474,  7.63157895,\n",
              "        8.10526316,  8.57894737,  9.05263158,  9.52631579, 10.        ])"
            ]
          },
          "metadata": {},
          "execution_count": 5
        }
      ]
    },
    {
      "cell_type": "code",
      "source": [
        "# матрица нулей 2x2\n",
        "np.zeros((2,2)) # обратите внимание на внутренние скобки. Эта функция принимает\n",
        "                # на вход tuple"
      ],
      "metadata": {
        "colab": {
          "base_uri": "https://localhost:8080/"
        },
        "id": "OPTqu60mi3rS",
        "outputId": "42fa0a73-c75d-4277-befa-76fd6198bcad"
      },
      "execution_count": 6,
      "outputs": [
        {
          "output_type": "execute_result",
          "data": {
            "text/plain": [
              "array([[0., 0.],\n",
              "       [0., 0.]])"
            ]
          },
          "metadata": {},
          "execution_count": 6
        }
      ]
    },
    {
      "cell_type": "code",
      "source": [
        "# Можно создать двумерную матрицу размера 10 на 10 из случайных чисел\n",
        "# нормального распределения\n",
        "r = np.random.random_sample((10, 10)) # обратите внимание - аргумент это tuple\n",
        "r # обратите внимание, тут нет вызова print, а просто заканчиваем ячейку\n",
        "  # переменной"
      ],
      "metadata": {
        "colab": {
          "base_uri": "https://localhost:8080/"
        },
        "id": "bSw6HwIYjBYH",
        "outputId": "b9a76380-2c38-477b-933f-6b3d5514e492"
      },
      "execution_count": 7,
      "outputs": [
        {
          "output_type": "execute_result",
          "data": {
            "text/plain": [
              "array([[0.50755507, 0.0211933 , 0.43352176, 0.44631306, 0.23881999,\n",
              "        0.83024573, 0.74476418, 0.586479  , 0.49286785, 0.48735588],\n",
              "       [0.2667407 , 0.6050111 , 0.75354372, 0.27058423, 0.52230328,\n",
              "        0.09832853, 0.71363667, 0.88404059, 0.56705442, 0.99448158],\n",
              "       [0.17873977, 0.01220009, 0.45699848, 0.93175194, 0.84602469,\n",
              "        0.47332988, 0.90255503, 0.22599553, 0.30415374, 0.71499388],\n",
              "       [0.72409148, 0.01867644, 0.2858131 , 0.58048634, 0.93078663,\n",
              "        0.3389969 , 0.12008312, 0.51627271, 0.69920706, 0.29864068],\n",
              "       [0.86160962, 0.9058072 , 0.76858325, 0.26123164, 0.9384556 ,\n",
              "        0.93864246, 0.74504455, 0.91073504, 0.23722471, 0.49496735],\n",
              "       [0.80987834, 0.95456578, 0.63748325, 0.91084975, 0.69213675,\n",
              "        0.04294299, 0.8335869 , 0.36994852, 0.936557  , 0.48305288],\n",
              "       [0.12533161, 0.96445418, 0.01702583, 0.67657077, 0.14043997,\n",
              "        0.15531285, 0.64955775, 0.98165422, 0.69480742, 0.76197389],\n",
              "       [0.42520918, 0.13889344, 0.2161863 , 0.76470027, 0.05460587,\n",
              "        0.49012299, 0.18069018, 0.63092485, 0.55124203, 0.56708121],\n",
              "       [0.81834498, 0.9389873 , 0.19290141, 0.71284402, 0.6979398 ,\n",
              "        0.2582965 , 0.91580782, 0.53235819, 0.55796442, 0.32277227],\n",
              "       [0.33863078, 0.33230155, 0.97881821, 0.2032152 , 0.66702606,\n",
              "        0.57478427, 0.05197529, 0.5428381 , 0.20794911, 0.09109018]])"
            ]
          },
          "metadata": {},
          "execution_count": 7
        }
      ]
    },
    {
      "cell_type": "code",
      "source": [
        "from matplotlib import pyplot as plt\n",
        "%matplotlib inline\n",
        "\n",
        "# просто можно визуализировать эти случайные числа для красоты\n",
        "plt.imshow(r, cmap=plt.cm.hot)\n",
        "plt.colorbar()"
      ],
      "metadata": {
        "colab": {
          "base_uri": "https://localhost:8080/",
          "height": 447
        },
        "id": "4u0Mh-jpjVVb",
        "outputId": "ceb9ae02-b4d8-4111-9199-8417460289d5"
      },
      "execution_count": 8,
      "outputs": [
        {
          "output_type": "execute_result",
          "data": {
            "text/plain": [
              "<matplotlib.colorbar.Colorbar at 0x7be068332320>"
            ]
          },
          "metadata": {},
          "execution_count": 8
        },
        {
          "output_type": "display_data",
          "data": {
            "text/plain": [
              "<Figure size 640x480 with 2 Axes>"
            ],
            "image/png": "[encoded data removed]"
          },
          "metadata": {}
        }
      ]
    },
    {
      "cell_type": "code",
      "source": [
        "# Можно создать матрицу заданного размера заполненую определенными числами\n",
        "# (данными)\n",
        "np.full((3, 3), 7)"
      ],
      "metadata": {
        "colab": {
          "base_uri": "https://localhost:8080/"
        },
        "id": "YCHYh2lEjeLX",
        "outputId": "8b6e05d3-bd83-482e-e47e-da7b51effaaf"
      },
      "execution_count": 9,
      "outputs": [
        {
          "output_type": "execute_result",
          "data": {
            "text/plain": [
              "array([[7, 7, 7],\n",
              "       [7, 7, 7],\n",
              "       [7, 7, 7]])"
            ]
          },
          "metadata": {},
          "execution_count": 9
        }
      ]
    },
    {
      "cell_type": "code",
      "source": [
        "# можно создать квадратную матрицу с единицами на диагонали\n",
        "np.eye(4)"
      ],
      "metadata": {
        "colab": {
          "base_uri": "https://localhost:8080/"
        },
        "id": "tNQbcUEOjo5u",
        "outputId": "110fbcb7-c5a8-4a43-b591-4b6cbc2a0b44"
      },
      "execution_count": 10,
      "outputs": [
        {
          "output_type": "execute_result",
          "data": {
            "text/plain": [
              "array([[1., 0., 0., 0.],\n",
              "       [0., 1., 0., 0.],\n",
              "       [0., 0., 1., 0.],\n",
              "       [0., 0., 0., 1.]])"
            ]
          },
          "metadata": {},
          "execution_count": 10
        }
      ]
    },
    {
      "cell_type": "code",
      "source": [
        "np.eye(4, M=2) # или так - урезать количество колонок"
      ],
      "metadata": {
        "colab": {
          "base_uri": "https://localhost:8080/"
        },
        "id": "OLVt2Y1Xjx4u",
        "outputId": "07971e8f-4fd1-401e-889d-4dcda4927f7f"
      },
      "execution_count": 11,
      "outputs": [
        {
          "output_type": "execute_result",
          "data": {
            "text/plain": [
              "array([[1., 0.],\n",
              "       [0., 1.],\n",
              "       [0., 0.],\n",
              "       [0., 0.]])"
            ]
          },
          "metadata": {},
          "execution_count": 11
        }
      ]
    },
    {
      "cell_type": "code",
      "source": [
        "np.eye(4, k=1) # можно выбрать номер диагонали, то есть вывести не на основной"
      ],
      "metadata": {
        "colab": {
          "base_uri": "https://localhost:8080/"
        },
        "id": "rR-u4hHaj70q",
        "outputId": "3ae5104d-bcf4-4d5d-c82a-3bbfc6db3aec"
      },
      "execution_count": 12,
      "outputs": [
        {
          "output_type": "execute_result",
          "data": {
            "text/plain": [
              "array([[0., 1., 0., 0.],\n",
              "       [0., 0., 1., 0.],\n",
              "       [0., 0., 0., 1.],\n",
              "       [0., 0., 0., 0.]])"
            ]
          },
          "metadata": {},
          "execution_count": 12
        }
      ]
    },
    {
      "cell_type": "code",
      "source": [
        "# или можно создать диагональную матрицу. Размер вычисляется из размера\n",
        "# диагонали\n",
        "np.diag([1,2,3,4, 5])"
      ],
      "metadata": {
        "id": "c9AMl-k0kCw_",
        "colab": {
          "base_uri": "https://localhost:8080/"
        },
        "outputId": "de1e0c39-2b0c-41a3-e0d1-8fe3ce5c50e7"
      },
      "execution_count": 13,
      "outputs": [
        {
          "output_type": "execute_result",
          "data": {
            "text/plain": [
              "array([[1, 0, 0, 0, 0],\n",
              "       [0, 2, 0, 0, 0],\n",
              "       [0, 0, 3, 0, 0],\n",
              "       [0, 0, 0, 4, 0],\n",
              "       [0, 0, 0, 0, 5]])"
            ]
          },
          "metadata": {},
          "execution_count": 13
        }
      ]
    },
    {
      "cell_type": "code",
      "source": [
        "# Можно перемешать даные\n",
        "\n",
        "arr = np.linspace(0,1,5) # сгенерируем 5 равноудаленных чисел в диапазоне\n",
        "                         # [0, 1]\n",
        "print(arr)\n",
        "\n",
        "np.random.shuffle(arr) # перемешаем случайным образом массив\n",
        "print(arr)"
      ],
      "metadata": {
        "colab": {
          "base_uri": "https://localhost:8080/"
        },
        "id": "o2sNNdpRkOst",
        "outputId": "5cbebdea-0c1a-4d3c-c474-f77fbcecd923"
      },
      "execution_count": 14,
      "outputs": [
        {
          "output_type": "stream",
          "name": "stdout",
          "text": [
            "[0.   0.25 0.5  0.75 1.  ]\n",
            "[0.   0.25 1.   0.75 0.5 ]\n"
          ]
        }
      ]
    },
    {
      "cell_type": "markdown",
      "source": [
        "# Информация о массиве\n",
        "\n",
        "arr.shape размерность массива\n",
        "\n",
        "arr.dtype тип данных, которая эта матрица хранит\n",
        "\n",
        "arr.ndim количество размерностей\n",
        "\n",
        "arr.size количество элементов в матрице"
      ],
      "metadata": {
        "id": "73ccB90lk2Rc"
      }
    },
    {
      "cell_type": "code",
      "source": [
        "arr = np.random.random_sample((10, 10))\n",
        "print(\"Shape: {}\".format(arr.shape))\n",
        "print(\"Dtype: {}\".format(arr.dtype))\n",
        "print(\"Ndim: {}\".format(arr.ndim))\n",
        "print(\"Size {}\".format(arr.size))"
      ],
      "metadata": {
        "id": "U8S5pbo7k4w0",
        "outputId": "2c31ded1-e5b6-4757-b53c-302a6d7281fa",
        "colab": {
          "base_uri": "https://localhost:8080/"
        }
      },
      "execution_count": 15,
      "outputs": [
        {
          "output_type": "stream",
          "name": "stdout",
          "text": [
            "Shape: (10, 10)\n",
            "Dtype: float64\n",
            "Ndim: 2\n",
            "Size 100\n"
          ]
        }
      ]
    },
    {
      "cell_type": "markdown",
      "source": [
        "# Работа с массивами\n",
        "\n",
        "Так как предполагается, что матрицы придется всяко разно трансформаировать, в Numpy есть очень много способов по преобразованию, выборке, трансформациям массивов"
      ],
      "metadata": {
        "id": "i_omfHY0kW-A"
      }
    },
    {
      "cell_type": "markdown",
      "source": [
        "Индексация\n",
        "\n",
        "https://docs.scipy.org/doc/numpy-1.13.0/reference/arrays.indexing.html\n",
        "\n",
        "взятие по индексу\n",
        "\n",
        "слайсы\n",
        "\n",
        "слайсы по отдельным осям\n",
        "\n",
        "логические индексы для выборок"
      ],
      "metadata": {
        "id": "j5kvwd99kYIH"
      }
    },
    {
      "cell_type": "code",
      "source": [
        "arr = np.arange(9) # создадим массив из чисел от 0 до 9, не включительно\n",
        "arr"
      ],
      "metadata": {
        "colab": {
          "base_uri": "https://localhost:8080/"
        },
        "id": "fkXe3lZbkclL",
        "outputId": "9f418187-a09c-49e9-88a5-b22b59394d5a"
      },
      "execution_count": 16,
      "outputs": [
        {
          "output_type": "execute_result",
          "data": {
            "text/plain": [
              "array([0, 1, 2, 3, 4, 5, 6, 7, 8])"
            ]
          },
          "metadata": {},
          "execution_count": 16
        }
      ]
    },
    {
      "cell_type": "code",
      "source": [
        "print(arr[0]) # обычная индексация [0, 1, 2 .....]\n",
        "print(arr[-2]) # индексация с конца [..... -3 -2 -1]"
      ],
      "metadata": {
        "colab": {
          "base_uri": "https://localhost:8080/"
        },
        "id": "-56PonXjHU0c",
        "outputId": "f7f0bd9c-6e5a-4d10-b384-51d9f63af481"
      },
      "execution_count": 17,
      "outputs": [
        {
          "output_type": "stream",
          "name": "stdout",
          "text": [
            "0\n",
            "7\n"
          ]
        }
      ]
    },
    {
      "cell_type": "markdown",
      "source": [
        "Слайсинг в Python: array[from:to:step], по умолчанию step=1"
      ],
      "metadata": {
        "id": "221ynakkHcLv"
      }
    },
    {
      "cell_type": "code",
      "source": [
        "arr[2:5]  # слайс массива"
      ],
      "metadata": {
        "colab": {
          "base_uri": "https://localhost:8080/"
        },
        "id": "HlMcPM4UHdFf",
        "outputId": "45e990a8-c887-4f8f-b277-479c45d31e03"
      },
      "execution_count": 18,
      "outputs": [
        {
          "output_type": "execute_result",
          "data": {
            "text/plain": [
              "array([2, 3, 4])"
            ]
          },
          "metadata": {},
          "execution_count": 18
        }
      ]
    },
    {
      "cell_type": "code",
      "source": [
        "arr[::2]  # каждый второй элемент массива"
      ],
      "metadata": {
        "colab": {
          "base_uri": "https://localhost:8080/"
        },
        "id": "JD01-TMRHo3P",
        "outputId": "02962022-f536-4e98-9e5f-a594ed4969e3"
      },
      "execution_count": 19,
      "outputs": [
        {
          "output_type": "execute_result",
          "data": {
            "text/plain": [
              "array([0, 2, 4, 6, 8])"
            ]
          },
          "metadata": {},
          "execution_count": 19
        }
      ]
    },
    {
      "cell_type": "code",
      "source": [
        "arr[::-1] # массив задом напереде"
      ],
      "metadata": {
        "colab": {
          "base_uri": "https://localhost:8080/"
        },
        "id": "1NS-eS47HtI0",
        "outputId": "96eb791f-0eee-4b20-857c-e35c6e325c0e"
      },
      "execution_count": 20,
      "outputs": [
        {
          "output_type": "execute_result",
          "data": {
            "text/plain": [
              "array([8, 7, 6, 5, 4, 3, 2, 1, 0])"
            ]
          },
          "metadata": {},
          "execution_count": 20
        }
      ]
    },
    {
      "cell_type": "code",
      "source": [
        "arr[3:0:-1]"
      ],
      "metadata": {
        "colab": {
          "base_uri": "https://localhost:8080/"
        },
        "id": "udkuUJrVHuI9",
        "outputId": "ce8ac6a3-65c0-4889-991b-c0d88a42426f"
      },
      "execution_count": 21,
      "outputs": [
        {
          "output_type": "execute_result",
          "data": {
            "text/plain": [
              "array([3, 2, 1])"
            ]
          },
          "metadata": {},
          "execution_count": 21
        }
      ]
    },
    {
      "cell_type": "code",
      "source": [
        "# Можно менять размерность, без изменения количества элементов массива\n",
        "\n",
        "arr = arr.reshape(3,3)\n",
        "arr"
      ],
      "metadata": {
        "colab": {
          "base_uri": "https://localhost:8080/"
        },
        "id": "Xduu35MnHzne",
        "outputId": "fa2e8203-f357-4003-a97c-1bfeb775d0e0"
      },
      "execution_count": 22,
      "outputs": [
        {
          "output_type": "execute_result",
          "data": {
            "text/plain": [
              "array([[0, 1, 2],\n",
              "       [3, 4, 5],\n",
              "       [6, 7, 8]])"
            ]
          },
          "metadata": {},
          "execution_count": 22
        }
      ]
    },
    {
      "cell_type": "code",
      "source": [
        "# arr[Y, X]\n",
        "print(arr[1,1])\n",
        "print(arr[1,0])"
      ],
      "metadata": {
        "colab": {
          "base_uri": "https://localhost:8080/"
        },
        "id": "xVkLxoGecAdT",
        "outputId": "f8f87a1b-665e-4738-9d3b-87720afff82f"
      },
      "execution_count": 23,
      "outputs": [
        {
          "output_type": "stream",
          "name": "stdout",
          "text": [
            "4\n",
            "3\n"
          ]
        }
      ]
    },
    {
      "cell_type": "code",
      "source": [
        "arr[0:2, :] # слайсинг многомерных массивов"
      ],
      "metadata": {
        "colab": {
          "base_uri": "https://localhost:8080/"
        },
        "id": "USP64Eskcw8n",
        "outputId": "7098b888-f821-453c-9de3-f46650678dc6"
      },
      "execution_count": 24,
      "outputs": [
        {
          "output_type": "execute_result",
          "data": {
            "text/plain": [
              "array([[0, 1, 2],\n",
              "       [3, 4, 5]])"
            ]
          },
          "metadata": {},
          "execution_count": 24
        }
      ]
    },
    {
      "cell_type": "code",
      "source": [
        "arr[1:3, 1:3] # слайсинг многомерных массивов"
      ],
      "metadata": {
        "colab": {
          "base_uri": "https://localhost:8080/"
        },
        "id": "my3cOv5BdBfs",
        "outputId": "ccb63393-4bf0-46dd-cbc6-2f2f71d7708b"
      },
      "execution_count": 25,
      "outputs": [
        {
          "output_type": "execute_result",
          "data": {
            "text/plain": [
              "array([[4, 5],\n",
              "       [7, 8]])"
            ]
          },
          "metadata": {},
          "execution_count": 25
        }
      ]
    },
    {
      "cell_type": "code",
      "source": [
        "arr[::2,::2] # слайсинг многомерных массивов"
      ],
      "metadata": {
        "colab": {
          "base_uri": "https://localhost:8080/"
        },
        "id": "ckDkaG0cdsqB",
        "outputId": "75586391-6eb9-43d6-a85e-dba2c77ba735"
      },
      "execution_count": 26,
      "outputs": [
        {
          "output_type": "execute_result",
          "data": {
            "text/plain": [
              "array([[0, 2],\n",
              "       [6, 8]])"
            ]
          },
          "metadata": {},
          "execution_count": 26
        }
      ]
    },
    {
      "cell_type": "code",
      "source": [
        "arr[::-1,::-1] # слайсинг многомерных массивов"
      ],
      "metadata": {
        "colab": {
          "base_uri": "https://localhost:8080/"
        },
        "id": "JE90zNfldxoo",
        "outputId": "f34bcba2-73d5-4630-a323-f95e7cf68abc"
      },
      "execution_count": 27,
      "outputs": [
        {
          "output_type": "execute_result",
          "data": {
            "text/plain": [
              "array([[8, 7, 6],\n",
              "       [5, 4, 3],\n",
              "       [2, 1, 0]])"
            ]
          },
          "metadata": {},
          "execution_count": 27
        }
      ]
    },
    {
      "cell_type": "code",
      "source": [
        "arr = np.arange(25).reshape((5,5))\n",
        "arr"
      ],
      "metadata": {
        "colab": {
          "base_uri": "https://localhost:8080/"
        },
        "id": "5oHH-svwdyqv",
        "outputId": "e8e92124-86ae-482d-af1b-25355c86cb05"
      },
      "execution_count": 28,
      "outputs": [
        {
          "output_type": "execute_result",
          "data": {
            "text/plain": [
              "array([[ 0,  1,  2,  3,  4],\n",
              "       [ 5,  6,  7,  8,  9],\n",
              "       [10, 11, 12, 13, 14],\n",
              "       [15, 16, 17, 18, 19],\n",
              "       [20, 21, 22, 23, 24]])"
            ]
          },
          "metadata": {},
          "execution_count": 28
        }
      ]
    },
    {
      "cell_type": "code",
      "source": [
        "arr[[0,3]] # подвыборка строк по их индексам. Обратите внимание на синтаксис"
      ],
      "metadata": {
        "colab": {
          "base_uri": "https://localhost:8080/"
        },
        "id": "lDqJ_sQSeFKs",
        "outputId": "05c0c4f7-cd80-4ea6-fede-589c0fe01e83"
      },
      "execution_count": 29,
      "outputs": [
        {
          "output_type": "execute_result",
          "data": {
            "text/plain": [
              "array([[ 0,  1,  2,  3,  4],\n",
              "       [15, 16, 17, 18, 19]])"
            ]
          },
          "metadata": {},
          "execution_count": 29
        }
      ]
    },
    {
      "cell_type": "markdown",
      "source": [
        "# Фильтрация, выборка данных.\n",
        "\n",
        "Иногда нужно делать сложные выборки над данными в матрицах"
      ],
      "metadata": {
        "id": "E094ZYWLeMDk"
      }
    },
    {
      "cell_type": "code",
      "source": [
        "arr = np.arange(16)\n",
        "arr"
      ],
      "metadata": {
        "id": "QMQY_tIqemi0",
        "colab": {
          "base_uri": "https://localhost:8080/"
        },
        "outputId": "c6e319e7-f5f3-49ea-ae0f-ab83ad939a59"
      },
      "execution_count": 30,
      "outputs": [
        {
          "output_type": "execute_result",
          "data": {
            "text/plain": [
              "array([ 0,  1,  2,  3,  4,  5,  6,  7,  8,  9, 10, 11, 12, 13, 14, 15])"
            ]
          },
          "metadata": {},
          "execution_count": 30
        }
      ]
    },
    {
      "cell_type": "code",
      "source": [
        "'''\n",
        "Обратите внимание, мы нашли остаток от деления на 2 и\n",
        "сравнили его с 0 для КАЖДОГО ЭЛЕМЕНТА и получили новый массив\n",
        "'''\n",
        "arr % 2 != 0"
      ],
      "metadata": {
        "colab": {
          "base_uri": "https://localhost:8080/"
        },
        "id": "Tf2xhNJLZ-Ta",
        "outputId": "b82a4ec7-a866-43b4-e87f-0cbdb2d09b79"
      },
      "execution_count": 31,
      "outputs": [
        {
          "output_type": "execute_result",
          "data": {
            "text/plain": [
              "array([False,  True, False,  True, False,  True, False,  True, False,\n",
              "        True, False,  True, False,  True, False,  True])"
            ]
          },
          "metadata": {},
          "execution_count": 31
        }
      ]
    },
    {
      "cell_type": "code",
      "source": [
        "arr[arr % 2 != 0] # в качестве индексов массива можно использовать boolean\n",
        "                  # массив - маску"
      ],
      "metadata": {
        "colab": {
          "base_uri": "https://localhost:8080/"
        },
        "id": "Zk3haEveaGyI",
        "outputId": "c24cbca4-95f1-478a-d45d-9eef7e6ce246"
      },
      "execution_count": 32,
      "outputs": [
        {
          "output_type": "execute_result",
          "data": {
            "text/plain": [
              "array([ 1,  3,  5,  7,  9, 11, 13, 15])"
            ]
          },
          "metadata": {},
          "execution_count": 32
        }
      ]
    },
    {
      "cell_type": "code",
      "source": [
        "# если нужно сделать логические операции над масками,\n",
        "# то применять надо БИТОВЫЕ операции,\n",
        "# так как только их можно переопределить как операции в классах питона,\n",
        "# что используют в numpy\n",
        "(arr % 2 != 0) & (arr % 3 != 0)"
      ],
      "metadata": {
        "colab": {
          "base_uri": "https://localhost:8080/"
        },
        "id": "AR8HtiQoaK6J",
        "outputId": "22297ace-9340-47ca-b52d-a3d105efd0f9"
      },
      "execution_count": 33,
      "outputs": [
        {
          "output_type": "execute_result",
          "data": {
            "text/plain": [
              "array([False,  True, False, False, False,  True, False,  True, False,\n",
              "       False, False,  True, False,  True, False, False])"
            ]
          },
          "metadata": {},
          "execution_count": 33
        }
      ]
    },
    {
      "cell_type": "code",
      "source": [
        "~(arr % 3 != 0) # отрицание логической операции"
      ],
      "metadata": {
        "colab": {
          "base_uri": "https://localhost:8080/"
        },
        "id": "pgaktliiabyb",
        "outputId": "9bd652c2-bd58-40e3-d30a-0e55f6357639"
      },
      "execution_count": 34,
      "outputs": [
        {
          "output_type": "execute_result",
          "data": {
            "text/plain": [
              "array([ True, False, False,  True, False, False,  True, False, False,\n",
              "        True, False, False,  True, False, False,  True])"
            ]
          },
          "metadata": {},
          "execution_count": 34
        }
      ]
    },
    {
      "cell_type": "code",
      "source": [
        "print((arr % 2 == 0) | (arr % 3 == 0))\n",
        "arr[(arr % 2 == 0) | (arr % 3 == 0)]"
      ],
      "metadata": {
        "colab": {
          "base_uri": "https://localhost:8080/"
        },
        "id": "r76ZpJ5dakES",
        "outputId": "1d4f7034-a139-42da-af19-c7dad9a083d6"
      },
      "execution_count": 35,
      "outputs": [
        {
          "output_type": "stream",
          "name": "stdout",
          "text": [
            "[ True False  True  True  True False  True False  True  True  True False\n",
            "  True False  True  True]\n"
          ]
        },
        {
          "output_type": "execute_result",
          "data": {
            "text/plain": [
              "array([ 0,  2,  3,  4,  6,  8,  9, 10, 12, 14, 15])"
            ]
          },
          "metadata": {},
          "execution_count": 35
        }
      ]
    },
    {
      "cell_type": "code",
      "source": [
        "arr[(arr % 2 != 0) & (arr % 3 != 0)]"
      ],
      "metadata": {
        "colab": {
          "base_uri": "https://localhost:8080/"
        },
        "id": "XkFjCoQKbgl6",
        "outputId": "67d3934b-1e53-4ec2-e49e-e0e524cb40cf"
      },
      "execution_count": 36,
      "outputs": [
        {
          "output_type": "execute_result",
          "data": {
            "text/plain": [
              "array([ 1,  5,  7, 11, 13])"
            ]
          },
          "metadata": {},
          "execution_count": 36
        }
      ]
    },
    {
      "cell_type": "markdown",
      "source": [
        "# Другие операции поиска"
      ],
      "metadata": {
        "id": "qSdXNifNbjWt"
      }
    },
    {
      "cell_type": "code",
      "source": [
        "arr = np.random.randn(20)\n",
        "arr"
      ],
      "metadata": {
        "colab": {
          "base_uri": "https://localhost:8080/"
        },
        "id": "77ejBukjblEC",
        "outputId": "018ba047-6f56-4f33-989a-6a2512733df1"
      },
      "execution_count": 37,
      "outputs": [
        {
          "output_type": "execute_result",
          "data": {
            "text/plain": [
              "array([ 0.35046317, -0.29518142, -0.49883161, -0.35383326,  0.86787632,\n",
              "       -0.45320766, -0.46977611,  1.01138264,  0.21890458, -1.59053895,\n",
              "        0.36577172,  2.30115119, -1.29063582, -1.22328606, -0.76805605,\n",
              "       -1.99812179,  1.85927831,  1.2572242 ,  0.24023873, -0.2125281 ])"
            ]
          },
          "metadata": {},
          "execution_count": 37
        }
      ]
    },
    {
      "cell_type": "code",
      "source": [
        "# найдем ИНДЕКС максимального элемента\n",
        "print(arr.argmax())\n",
        "print(arr[arr.argmax()])"
      ],
      "metadata": {
        "colab": {
          "base_uri": "https://localhost:8080/"
        },
        "id": "rSc3shCNb0wF",
        "outputId": "14b3ada7-ff1b-4b27-ed9a-41160035633a"
      },
      "execution_count": 38,
      "outputs": [
        {
          "output_type": "stream",
          "name": "stdout",
          "text": [
            "11\n",
            "2.301151192740128\n"
          ]
        }
      ]
    },
    {
      "cell_type": "code",
      "source": [
        "arr.argsort() # можно даже отсортировать массив, но получить индексы"
      ],
      "metadata": {
        "colab": {
          "base_uri": "https://localhost:8080/"
        },
        "id": "bWumyKPJb8It",
        "outputId": "22f2599e-df4c-4c1c-f5f1-061e5d04a27d"
      },
      "execution_count": 39,
      "outputs": [
        {
          "output_type": "execute_result",
          "data": {
            "text/plain": [
              "array([15,  9, 12, 13, 14,  2,  6,  5,  3,  1, 19,  8, 18,  0, 10,  4,  7,\n",
              "       17, 16, 11])"
            ]
          },
          "metadata": {},
          "execution_count": 39
        }
      ]
    },
    {
      "cell_type": "markdown",
      "source": [
        "# Преобразования размерностей\n",
        "\n",
        "*   транспонирование\n",
        "*   конкатенация массивов по разным осям\n",
        "*   reshape\n",
        "*   произвольное\n",
        "*   уплощение матриц\n",
        "\n",
        "\n",
        "\n",
        "\n",
        "\n",
        "\n"
      ],
      "metadata": {
        "id": "3GYCere0b_Oy"
      }
    },
    {
      "cell_type": "code",
      "source": [
        "a = np.array([[1,2,3]])\n",
        "print(a.shape)\n",
        "print(a.ndim)\n",
        "at = a.T\n",
        "print(at.shape)\n",
        "print(at.ndim)\n",
        "at"
      ],
      "metadata": {
        "colab": {
          "base_uri": "https://localhost:8080/"
        },
        "id": "97yIiR14cRVY",
        "outputId": "56bdbce3-dd33-47ac-a0df-a7744956aa83"
      },
      "execution_count": 40,
      "outputs": [
        {
          "output_type": "stream",
          "name": "stdout",
          "text": [
            "(1, 3)\n",
            "2\n",
            "(3, 1)\n",
            "2\n"
          ]
        },
        {
          "output_type": "execute_result",
          "data": {
            "text/plain": [
              "array([[1],\n",
              "       [2],\n",
              "       [3]])"
            ]
          },
          "metadata": {},
          "execution_count": 40
        }
      ]
    },
    {
      "cell_type": "markdown",
      "source": [
        "Reshape"
      ],
      "metadata": {
        "id": "cCG1YlBmfXV0"
      }
    },
    {
      "cell_type": "code",
      "source": [
        "arr = np.arange(16)\n",
        "print(arr.shape)\n",
        "print(arr.ndim)\n",
        "arr"
      ],
      "metadata": {
        "colab": {
          "base_uri": "https://localhost:8080/"
        },
        "id": "v9iH30uOfX-R",
        "outputId": "1e0532a3-dd6f-400c-afe6-28e20542d60e"
      },
      "execution_count": 41,
      "outputs": [
        {
          "output_type": "stream",
          "name": "stdout",
          "text": [
            "(16,)\n",
            "1\n"
          ]
        },
        {
          "output_type": "execute_result",
          "data": {
            "text/plain": [
              "array([ 0,  1,  2,  3,  4,  5,  6,  7,  8,  9, 10, 11, 12, 13, 14, 15])"
            ]
          },
          "metadata": {},
          "execution_count": 41
        }
      ]
    },
    {
      "cell_type": "code",
      "source": [
        "arr2 = arr.reshape((4,4))\n",
        "print(arr2.shape)\n",
        "print(arr2.ndim)\n",
        "arr2"
      ],
      "metadata": {
        "colab": {
          "base_uri": "https://localhost:8080/"
        },
        "id": "JUVv9Sayf2lF",
        "outputId": "e8a30a90-7d48-4f38-d78e-4ea6e25187dc"
      },
      "execution_count": 42,
      "outputs": [
        {
          "output_type": "stream",
          "name": "stdout",
          "text": [
            "(4, 4)\n",
            "2\n"
          ]
        },
        {
          "output_type": "execute_result",
          "data": {
            "text/plain": [
              "array([[ 0,  1,  2,  3],\n",
              "       [ 4,  5,  6,  7],\n",
              "       [ 8,  9, 10, 11],\n",
              "       [12, 13, 14, 15]])"
            ]
          },
          "metadata": {},
          "execution_count": 42
        }
      ]
    },
    {
      "cell_type": "code",
      "source": [
        "arr4 = arr.reshape((2,2,2,2))\n",
        "print(arr4.shape)\n",
        "print(arr4.ndim)\n",
        "arr4"
      ],
      "metadata": {
        "colab": {
          "base_uri": "https://localhost:8080/"
        },
        "id": "qhTWrqwAgYao",
        "outputId": "2688eddf-c429-4939-d976-7d22b17682f7"
      },
      "execution_count": 43,
      "outputs": [
        {
          "output_type": "stream",
          "name": "stdout",
          "text": [
            "(2, 2, 2, 2)\n",
            "4\n"
          ]
        },
        {
          "output_type": "execute_result",
          "data": {
            "text/plain": [
              "array([[[[ 0,  1],\n",
              "         [ 2,  3]],\n",
              "\n",
              "        [[ 4,  5],\n",
              "         [ 6,  7]]],\n",
              "\n",
              "\n",
              "       [[[ 8,  9],\n",
              "         [10, 11]],\n",
              "\n",
              "        [[12, 13],\n",
              "         [14, 15]]]])"
            ]
          },
          "metadata": {},
          "execution_count": 43
        }
      ]
    },
    {
      "cell_type": "markdown",
      "source": [
        "Concatenate"
      ],
      "metadata": {
        "id": "MPYwXTTLg0gR"
      }
    },
    {
      "cell_type": "code",
      "source": [
        "# соединение массивов\n",
        "\n",
        "a = np.array([1,2,3])\n",
        "b = np.array([7,8,9])\n",
        "np.concatenate((a,b))"
      ],
      "metadata": {
        "colab": {
          "base_uri": "https://localhost:8080/"
        },
        "id": "zrdxSxvig1RJ",
        "outputId": "f1e2ac5f-bfc2-4dab-ed59-8fe4e161fee1"
      },
      "execution_count": 44,
      "outputs": [
        {
          "output_type": "execute_result",
          "data": {
            "text/plain": [
              "array([1, 2, 3, 7, 8, 9])"
            ]
          },
          "metadata": {},
          "execution_count": 44
        }
      ]
    },
    {
      "cell_type": "code",
      "source": [
        "a = np.array([[1,2], [3,4]])\n",
        "b = np.array([[8,9]])\n",
        "print(a.shape)\n",
        "print(b.shape)"
      ],
      "metadata": {
        "colab": {
          "base_uri": "https://localhost:8080/"
        },
        "id": "0tHItU7phMfn",
        "outputId": "2168bbd1-8490-43b6-e005-362c2011ecc6"
      },
      "execution_count": 45,
      "outputs": [
        {
          "output_type": "stream",
          "name": "stdout",
          "text": [
            "(2, 2)\n",
            "(1, 2)\n"
          ]
        }
      ]
    },
    {
      "cell_type": "code",
      "source": [
        "np.concatenate((a,b), axis=0) # можно выбирать по какой оси будет сделано\n",
        "                              # присоединение массива"
      ],
      "metadata": {
        "colab": {
          "base_uri": "https://localhost:8080/"
        },
        "id": "6qimV4HthPp6",
        "outputId": "45d9743f-9c06-4428-b900-0789d1aafb98"
      },
      "execution_count": 48,
      "outputs": [
        {
          "output_type": "execute_result",
          "data": {
            "text/plain": [
              "array([[1, 2],\n",
              "       [3, 4],\n",
              "       [8, 9]])"
            ]
          },
          "metadata": {},
          "execution_count": 48
        }
      ]
    },
    {
      "cell_type": "code",
      "source": [
        "np.concatenate((a,b.T), axis=1)"
      ],
      "metadata": {
        "colab": {
          "base_uri": "https://localhost:8080/"
        },
        "id": "kv0uE7OShymc",
        "outputId": "078ddd81-3785-427f-c186-4b7ea52b9461"
      },
      "execution_count": 49,
      "outputs": [
        {
          "output_type": "execute_result",
          "data": {
            "text/plain": [
              "array([[1, 2, 8],\n",
              "       [3, 4, 9]])"
            ]
          },
          "metadata": {},
          "execution_count": 49
        }
      ]
    },
    {
      "cell_type": "code",
      "source": [
        "np.vstack((a,b)) # есть сокращенные и понятные вызовы для конкатенации матрц по\n",
        "                 # определенным осям"
      ],
      "metadata": {
        "colab": {
          "base_uri": "https://localhost:8080/"
        },
        "id": "yPkI1KS_h_eE",
        "outputId": "7870af47-5c49-46bd-dc5f-9a149c9c430d"
      },
      "execution_count": 50,
      "outputs": [
        {
          "output_type": "execute_result",
          "data": {
            "text/plain": [
              "array([[1, 2],\n",
              "       [3, 4],\n",
              "       [8, 9]])"
            ]
          },
          "metadata": {},
          "execution_count": 50
        }
      ]
    },
    {
      "cell_type": "code",
      "source": [
        "np.hstack((a,b.T)) # есть сокращенные и понятные вызовы для конкатенации матрц по определенным осям"
      ],
      "metadata": {
        "colab": {
          "base_uri": "https://localhost:8080/"
        },
        "id": "EZA--nKBiGhw",
        "outputId": "2b7ee5ea-88ca-45eb-a42e-bfd331d3cac0"
      },
      "execution_count": 51,
      "outputs": [
        {
          "output_type": "execute_result",
          "data": {
            "text/plain": [
              "array([[1, 2, 8],\n",
              "       [3, 4, 9]])"
            ]
          },
          "metadata": {},
          "execution_count": 51
        }
      ]
    },
    {
      "cell_type": "code",
      "source": [
        "np.hstack((a,b.T)).flatten(order='C') # выпрямление матрицы в разном порядке"
      ],
      "metadata": {
        "colab": {
          "base_uri": "https://localhost:8080/"
        },
        "id": "G4EpnfU3iTto",
        "outputId": "5ed62605-8fbd-4eac-c989-a7d0155be0ff"
      },
      "execution_count": 52,
      "outputs": [
        {
          "output_type": "execute_result",
          "data": {
            "text/plain": [
              "array([1, 2, 8, 3, 4, 9])"
            ]
          },
          "metadata": {},
          "execution_count": 52
        }
      ]
    },
    {
      "cell_type": "code",
      "source": [
        "np.hstack((a,b.T)).flatten(order='F') # выпрямление матрицы в разном порядке"
      ],
      "metadata": {
        "colab": {
          "base_uri": "https://localhost:8080/"
        },
        "id": "y_bN_zSliVHX",
        "outputId": "9f261301-5f6f-4cad-bbdf-f8be46b6ccc4"
      },
      "execution_count": 53,
      "outputs": [
        {
          "output_type": "execute_result",
          "data": {
            "text/plain": [
              "array([1, 3, 2, 4, 8, 9])"
            ]
          },
          "metadata": {},
          "execution_count": 53
        }
      ]
    },
    {
      "cell_type": "markdown",
      "source": [
        "# Линейная алгебра\n",
        "Так как всё матрица, тогда вся математика - это линейная алгебра. (шутка)"
      ],
      "metadata": {
        "id": "9RFddMDAiscN"
      }
    },
    {
      "cell_type": "code",
      "source": [
        "a = np.arange(1,4)\n",
        "b = np.arange(1,4)\n",
        "print(a,b)"
      ],
      "metadata": {
        "colab": {
          "base_uri": "https://localhost:8080/"
        },
        "id": "u0hceaTxivZb",
        "outputId": "fadb3886-5353-49ec-95ce-37562ddff830"
      },
      "execution_count": 54,
      "outputs": [
        {
          "output_type": "stream",
          "name": "stdout",
          "text": [
            "[1 2 3] [1 2 3]\n"
          ]
        }
      ]
    },
    {
      "cell_type": "markdown",
      "source": [
        "Поэлементные операции"
      ],
      "metadata": {
        "id": "YsmIA6uBjErI"
      }
    },
    {
      "cell_type": "code",
      "source": [
        "a + b"
      ],
      "metadata": {
        "colab": {
          "base_uri": "https://localhost:8080/"
        },
        "id": "j3BkIfK9jFLr",
        "outputId": "c7ae8b3f-6c7f-4e62-8515-d206dbad738e"
      },
      "execution_count": 55,
      "outputs": [
        {
          "output_type": "execute_result",
          "data": {
            "text/plain": [
              "array([2, 4, 6])"
            ]
          },
          "metadata": {},
          "execution_count": 55
        }
      ]
    },
    {
      "cell_type": "code",
      "source": [
        "a + 1"
      ],
      "metadata": {
        "colab": {
          "base_uri": "https://localhost:8080/"
        },
        "id": "LU-RHsUqjKvB",
        "outputId": "4ad00042-76cb-46b6-e952-62d7748f2154"
      },
      "execution_count": 56,
      "outputs": [
        {
          "output_type": "execute_result",
          "data": {
            "text/plain": [
              "array([2, 3, 4])"
            ]
          },
          "metadata": {},
          "execution_count": 56
        }
      ]
    },
    {
      "cell_type": "code",
      "source": [
        "a * 3"
      ],
      "metadata": {
        "colab": {
          "base_uri": "https://localhost:8080/"
        },
        "id": "KvZkagwJjNgc",
        "outputId": "3ae8040d-6154-41e3-d6e3-73a5ee0fceea"
      },
      "execution_count": 57,
      "outputs": [
        {
          "output_type": "execute_result",
          "data": {
            "text/plain": [
              "array([3, 6, 9])"
            ]
          },
          "metadata": {},
          "execution_count": 57
        }
      ]
    },
    {
      "cell_type": "code",
      "source": [
        "a / 2"
      ],
      "metadata": {
        "colab": {
          "base_uri": "https://localhost:8080/"
        },
        "id": "YVnp2yhMjQPh",
        "outputId": "0112f626-746b-4757-d72b-90110411be77"
      },
      "execution_count": 58,
      "outputs": [
        {
          "output_type": "execute_result",
          "data": {
            "text/plain": [
              "array([0.5, 1. , 1.5])"
            ]
          },
          "metadata": {},
          "execution_count": 58
        }
      ]
    },
    {
      "cell_type": "code",
      "source": [
        "3 / a"
      ],
      "metadata": {
        "colab": {
          "base_uri": "https://localhost:8080/"
        },
        "id": "aJFQs6NdjXWt",
        "outputId": "6e5f1e14-33f4-47dc-d00e-efe84a9b2e3e"
      },
      "execution_count": 59,
      "outputs": [
        {
          "output_type": "execute_result",
          "data": {
            "text/plain": [
              "array([3. , 1.5, 1. ])"
            ]
          },
          "metadata": {},
          "execution_count": 59
        }
      ]
    },
    {
      "cell_type": "code",
      "source": [
        "a * b"
      ],
      "metadata": {
        "colab": {
          "base_uri": "https://localhost:8080/"
        },
        "id": "nhLVno88jZ6g",
        "outputId": "9b206549-3610-40f5-f232-3b492acc43a7"
      },
      "execution_count": 60,
      "outputs": [
        {
          "output_type": "execute_result",
          "data": {
            "text/plain": [
              "array([1, 4, 9])"
            ]
          },
          "metadata": {},
          "execution_count": 60
        }
      ]
    },
    {
      "cell_type": "code",
      "source": [
        "c = np.arange(4).reshape(2,2)\n",
        "c"
      ],
      "metadata": {
        "colab": {
          "base_uri": "https://localhost:8080/"
        },
        "id": "qyd3N-yfjgXB",
        "outputId": "9e477200-d281-4ce3-f01a-7de5ef569417"
      },
      "execution_count": 61,
      "outputs": [
        {
          "output_type": "execute_result",
          "data": {
            "text/plain": [
              "array([[0, 1],\n",
              "       [2, 3]])"
            ]
          },
          "metadata": {},
          "execution_count": 61
        }
      ]
    },
    {
      "cell_type": "code",
      "source": [
        "np.log(c)"
      ],
      "metadata": {
        "colab": {
          "base_uri": "https://localhost:8080/"
        },
        "id": "ScrQkzKjkafY",
        "outputId": "404fa416-81d0-4fe8-d584-1ea868821764"
      },
      "execution_count": 62,
      "outputs": [
        {
          "output_type": "stream",
          "name": "stderr",
          "text": [
            "<ipython-input-62-59fd320a62f4>:1: RuntimeWarning: divide by zero encountered in log\n",
            "  np.log(c)\n"
          ]
        },
        {
          "output_type": "execute_result",
          "data": {
            "text/plain": [
              "array([[      -inf, 0.        ],\n",
              "       [0.69314718, 1.09861229]])"
            ]
          },
          "metadata": {},
          "execution_count": 62
        }
      ]
    },
    {
      "cell_type": "code",
      "source": [
        "np.exp(c)"
      ],
      "metadata": {
        "colab": {
          "base_uri": "https://localhost:8080/"
        },
        "id": "soBjBajckf89",
        "outputId": "d9fcab06-d52b-4053-84e3-1dd0558737cc"
      },
      "execution_count": 63,
      "outputs": [
        {
          "output_type": "execute_result",
          "data": {
            "text/plain": [
              "array([[ 1.        ,  2.71828183],\n",
              "       [ 7.3890561 , 20.08553692]])"
            ]
          },
          "metadata": {},
          "execution_count": 63
        }
      ]
    },
    {
      "cell_type": "code",
      "source": [
        "np.sin(c)"
      ],
      "metadata": {
        "colab": {
          "base_uri": "https://localhost:8080/"
        },
        "id": "AuSPcFC7k2vU",
        "outputId": "5574da48-93a9-4e0a-d971-39f916e11100"
      },
      "execution_count": 64,
      "outputs": [
        {
          "output_type": "execute_result",
          "data": {
            "text/plain": [
              "array([[0.        , 0.84147098],\n",
              "       [0.90929743, 0.14112001]])"
            ]
          },
          "metadata": {},
          "execution_count": 64
        }
      ]
    },
    {
      "cell_type": "markdown",
      "source": [
        "Матричные операции"
      ],
      "metadata": {
        "id": "yb5ZFP2qk6eR"
      }
    },
    {
      "cell_type": "code",
      "source": [
        "# Сделаем из массиво, вектор-строки матрицы\n",
        "a = a.reshape(1,3)\n",
        "b = b.reshape(1,3)\n",
        "a, b"
      ],
      "metadata": {
        "colab": {
          "base_uri": "https://localhost:8080/"
        },
        "id": "qBQ4QeJrk7iL",
        "outputId": "3fb3443f-cc6a-4de0-97a4-034e1bc3877c"
      },
      "execution_count": 65,
      "outputs": [
        {
          "output_type": "execute_result",
          "data": {
            "text/plain": [
              "(array([[1, 2, 3]]), array([[1, 2, 3]]))"
            ]
          },
          "metadata": {},
          "execution_count": 65
        }
      ]
    },
    {
      "cell_type": "code",
      "source": [
        "a * b.T"
      ],
      "metadata": {
        "colab": {
          "base_uri": "https://localhost:8080/"
        },
        "id": "xPH5oDDXlU0S",
        "outputId": "53c13165-0866-4442-f376-fed7105c948e"
      },
      "execution_count": 66,
      "outputs": [
        {
          "output_type": "execute_result",
          "data": {
            "text/plain": [
              "array([[1, 2, 3],\n",
              "       [2, 4, 6],\n",
              "       [3, 6, 9]])"
            ]
          },
          "metadata": {},
          "execution_count": 66
        }
      ]
    },
    {
      "cell_type": "code",
      "source": [
        "try:\n",
        "    np.dot(a,b)\n",
        "except Exception as e:\n",
        "    print(e) # если"
      ],
      "metadata": {
        "colab": {
          "base_uri": "https://localhost:8080/"
        },
        "id": "KIUb4iNnlasV",
        "outputId": "d92f237a-36af-446d-d5d6-a2f7f376dd76"
      },
      "execution_count": 67,
      "outputs": [
        {
          "output_type": "stream",
          "name": "stdout",
          "text": [
            "shapes (1,3) and (1,3) not aligned: 3 (dim 1) != 1 (dim 0)\n"
          ]
        }
      ]
    },
    {
      "cell_type": "code",
      "source": [
        "np.dot(a,b.T)"
      ],
      "metadata": {
        "colab": {
          "base_uri": "https://localhost:8080/"
        },
        "id": "daM3035UljNZ",
        "outputId": "94172f76-fdab-4ece-e29a-9ce561789522"
      },
      "execution_count": 68,
      "outputs": [
        {
          "output_type": "execute_result",
          "data": {
            "text/plain": [
              "array([[14]])"
            ]
          },
          "metadata": {},
          "execution_count": 68
        }
      ]
    },
    {
      "cell_type": "code",
      "source": [
        "a.dot(b.T) # можно вызывать функцию как метод над экземпляром класса"
      ],
      "metadata": {
        "colab": {
          "base_uri": "https://localhost:8080/"
        },
        "id": "xt9dOquXlog1",
        "outputId": "bbc8e99e-1629-4689-c185-4eeb83fb66b1"
      },
      "execution_count": 69,
      "outputs": [
        {
          "output_type": "execute_result",
          "data": {
            "text/plain": [
              "array([[14]])"
            ]
          },
          "metadata": {},
          "execution_count": 69
        }
      ]
    },
    {
      "cell_type": "code",
      "source": [
        "arr = np.array([[1., 2.], [3., 4.]])\n",
        "print(arr)\n",
        "arr_inv = np.linalg.inv(arr)  # взятие обратной матрицы\n",
        "print(arr_inv)\n",
        "\n",
        "np.dot(arr_inv, arr)"
      ],
      "metadata": {
        "colab": {
          "base_uri": "https://localhost:8080/"
        },
        "id": "Fb4Co5qkl5wW",
        "outputId": "edc19e11-2dcf-4683-be1f-8c8841de076e"
      },
      "execution_count": 70,
      "outputs": [
        {
          "output_type": "stream",
          "name": "stdout",
          "text": [
            "[[1. 2.]\n",
            " [3. 4.]]\n",
            "[[-2.   1. ]\n",
            " [ 1.5 -0.5]]\n"
          ]
        },
        {
          "output_type": "execute_result",
          "data": {
            "text/plain": [
              "array([[1.00000000e+00, 0.00000000e+00],\n",
              "       [1.11022302e-16, 1.00000000e+00]])"
            ]
          },
          "metadata": {},
          "execution_count": 70
        }
      ]
    },
    {
      "cell_type": "markdown",
      "source": [
        "# Статистические функции\n",
        "\n",
        "*   суммы\n",
        "*   среднее\n",
        "*   медианы\n",
        "*   стандартное отклонение\n",
        "*   корреляция"
      ],
      "metadata": {
        "id": "GriUjliJl9p7"
      }
    },
    {
      "cell_type": "code",
      "source": [
        "arr = np.array([[1,2], [3,4]])\n",
        "arr"
      ],
      "metadata": {
        "colab": {
          "base_uri": "https://localhost:8080/"
        },
        "id": "itvKEZ2imUO0",
        "outputId": "0554f583-e934-4849-cb2a-583ff8d54f39"
      },
      "execution_count": 71,
      "outputs": [
        {
          "output_type": "execute_result",
          "data": {
            "text/plain": [
              "array([[1, 2],\n",
              "       [3, 4]])"
            ]
          },
          "metadata": {},
          "execution_count": 71
        }
      ]
    },
    {
      "cell_type": "code",
      "source": [
        "arr.sum() # сумма всех элементов маттрицы"
      ],
      "metadata": {
        "colab": {
          "base_uri": "https://localhost:8080/"
        },
        "id": "9utovvwimuY-",
        "outputId": "570556f5-9d8d-4f7f-a7f7-856c57f53fcf"
      },
      "execution_count": 72,
      "outputs": [
        {
          "output_type": "execute_result",
          "data": {
            "text/plain": [
              "10"
            ]
          },
          "metadata": {},
          "execution_count": 72
        }
      ]
    },
    {
      "cell_type": "code",
      "source": [
        "arr.sum(axis=1) # сумма элементов матрицы вдоль"
      ],
      "metadata": {
        "colab": {
          "base_uri": "https://localhost:8080/"
        },
        "id": "hDS8RF-6m6q9",
        "outputId": "53773d86-bda5-40dd-9a27-e43e02a9f649"
      },
      "execution_count": 73,
      "outputs": [
        {
          "output_type": "execute_result",
          "data": {
            "text/plain": [
              "array([3, 7])"
            ]
          },
          "metadata": {},
          "execution_count": 73
        }
      ]
    },
    {
      "cell_type": "code",
      "source": [
        "arr.sum(axis=0)"
      ],
      "metadata": {
        "colab": {
          "base_uri": "https://localhost:8080/"
        },
        "id": "GezbGB_Dm8V6",
        "outputId": "aca1dfbc-f8c0-47ad-d333-e2655a60cea5"
      },
      "execution_count": 74,
      "outputs": [
        {
          "output_type": "execute_result",
          "data": {
            "text/plain": [
              "array([4, 6])"
            ]
          },
          "metadata": {},
          "execution_count": 74
        }
      ]
    },
    {
      "cell_type": "code",
      "source": [
        "arr.mean(), arr.mean(axis=1), arr.mean(axis=0) # среднее по осям"
      ],
      "metadata": {
        "colab": {
          "base_uri": "https://localhost:8080/"
        },
        "id": "P0A3dqJwnDdf",
        "outputId": "f907a457-87b4-4994-ae20-330c72e37da4"
      },
      "execution_count": 75,
      "outputs": [
        {
          "output_type": "execute_result",
          "data": {
            "text/plain": [
              "(2.5, array([1.5, 3.5]), array([2., 3.]))"
            ]
          },
          "metadata": {},
          "execution_count": 75
        }
      ]
    },
    {
      "cell_type": "code",
      "source": [
        "arr.std() # стандартное отклонение"
      ],
      "metadata": {
        "colab": {
          "base_uri": "https://localhost:8080/"
        },
        "id": "Jk6FzJHTnTzG",
        "outputId": "4962e1e2-ea68-4be5-b2b8-10c7ba8bcca6"
      },
      "execution_count": 76,
      "outputs": [
        {
          "output_type": "execute_result",
          "data": {
            "text/plain": [
              "1.118033988749895"
            ]
          },
          "metadata": {},
          "execution_count": 76
        }
      ]
    },
    {
      "cell_type": "code",
      "source": [
        "np.median(arr) # медиана"
      ],
      "metadata": {
        "colab": {
          "base_uri": "https://localhost:8080/"
        },
        "id": "wo9vDsPfnVB9",
        "outputId": "6c29e3d1-8fc2-4ca0-a9e5-2d7f6a52fd83"
      },
      "execution_count": 77,
      "outputs": [
        {
          "output_type": "execute_result",
          "data": {
            "text/plain": [
              "2.5"
            ]
          },
          "metadata": {},
          "execution_count": 77
        }
      ]
    },
    {
      "cell_type": "code",
      "source": [
        "arr = np.array([1,2,3])\n",
        "# можно даже вычислять значение корреляции!\n",
        "print(np.correlate(arr, arr*2))\n",
        "print(np.correlate(arr, -arr*2))\n",
        "print(np.correlate(arr, np.log(arr)))"
      ],
      "metadata": {
        "colab": {
          "base_uri": "https://localhost:8080/"
        },
        "id": "v9l5o8BGnpyG",
        "outputId": "55912e4c-66bb-4215-d7be-ed9b3355a63f"
      },
      "execution_count": 78,
      "outputs": [
        {
          "output_type": "stream",
          "name": "stdout",
          "text": [
            "[28]\n",
            "[-28]\n",
            "[4.68213123]\n"
          ]
        }
      ]
    }
  ]
}